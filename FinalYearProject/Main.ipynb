{
 "cells": [
  {
   "cell_type": "markdown",
   "id": "b09e7e71-4bd0-4b10-a5f0-6db3f76fc269",
   "metadata": {},
   "source": [
    "# Enviroment Setup"
   ]
  },
  {
   "cell_type": "code",
   "execution_count": 3,
   "id": "c8105b0e-f5fc-420e-8890-65b29f0ba1bb",
   "metadata": {},
   "outputs": [
    {
     "name": "stdout",
     "output_type": "stream",
     "text": [
      "Collecting alpha_vantage\n",
      "  Downloading alpha_vantage-3.0.0-py3-none-any.whl.metadata (12 kB)\n",
      "Collecting aiohttp (from alpha_vantage)\n",
      "  Downloading aiohttp-3.11.13-cp312-cp312-win_amd64.whl.metadata (8.0 kB)\n",
      "Requirement already satisfied: requests in c:\\anaconda\\envs\\fyp\\lib\\site-packages (from alpha_vantage) (2.32.3)\n",
      "Collecting aiohappyeyeballs>=2.3.0 (from aiohttp->alpha_vantage)\n",
      "  Downloading aiohappyeyeballs-2.4.6-py3-none-any.whl.metadata (5.9 kB)\n",
      "Collecting aiosignal>=1.1.2 (from aiohttp->alpha_vantage)\n",
      "  Downloading aiosignal-1.3.2-py2.py3-none-any.whl.metadata (3.8 kB)\n",
      "Requirement already satisfied: attrs>=17.3.0 in c:\\anaconda\\envs\\fyp\\lib\\site-packages (from aiohttp->alpha_vantage) (24.3.0)\n",
      "Collecting frozenlist>=1.1.1 (from aiohttp->alpha_vantage)\n",
      "  Downloading frozenlist-1.5.0-cp312-cp312-win_amd64.whl.metadata (14 kB)\n",
      "Collecting multidict<7.0,>=4.5 (from aiohttp->alpha_vantage)\n",
      "  Downloading multidict-6.1.0-cp312-cp312-win_amd64.whl.metadata (5.1 kB)\n",
      "Collecting propcache>=0.2.0 (from aiohttp->alpha_vantage)\n",
      "  Downloading propcache-0.3.0-cp312-cp312-win_amd64.whl.metadata (10 kB)\n",
      "Collecting yarl<2.0,>=1.17.0 (from aiohttp->alpha_vantage)\n",
      "  Downloading yarl-1.18.3-cp312-cp312-win_amd64.whl.metadata (71 kB)\n",
      "Requirement already satisfied: charset-normalizer<4,>=2 in c:\\anaconda\\envs\\fyp\\lib\\site-packages (from requests->alpha_vantage) (3.3.2)\n",
      "Requirement already satisfied: idna<4,>=2.5 in c:\\anaconda\\envs\\fyp\\lib\\site-packages (from requests->alpha_vantage) (3.10)\n",
      "Requirement already satisfied: urllib3<3,>=1.21.1 in c:\\anaconda\\envs\\fyp\\lib\\site-packages (from requests->alpha_vantage) (2.3.0)\n",
      "Requirement already satisfied: certifi>=2017.4.17 in c:\\anaconda\\envs\\fyp\\lib\\site-packages (from requests->alpha_vantage) (2025.1.31)\n",
      "Downloading alpha_vantage-3.0.0-py3-none-any.whl (35 kB)\n",
      "Downloading aiohttp-3.11.13-cp312-cp312-win_amd64.whl (438 kB)\n",
      "Downloading aiohappyeyeballs-2.4.6-py3-none-any.whl (14 kB)\n",
      "Downloading aiosignal-1.3.2-py2.py3-none-any.whl (7.6 kB)\n",
      "Downloading frozenlist-1.5.0-cp312-cp312-win_amd64.whl (51 kB)\n",
      "Downloading multidict-6.1.0-cp312-cp312-win_amd64.whl (28 kB)\n",
      "Downloading propcache-0.3.0-cp312-cp312-win_amd64.whl (44 kB)\n",
      "Downloading yarl-1.18.3-cp312-cp312-win_amd64.whl (90 kB)\n",
      "Installing collected packages: propcache, multidict, frozenlist, aiohappyeyeballs, yarl, aiosignal, aiohttp, alpha_vantage\n",
      "Successfully installed aiohappyeyeballs-2.4.6 aiohttp-3.11.13 aiosignal-1.3.2 alpha_vantage-3.0.0 frozenlist-1.5.0 multidict-6.1.0 propcache-0.3.0 yarl-1.18.3\n"
     ]
    }
   ],
   "source": [
    "!pip install alpha_vantage\n"
   ]
  },
  {
   "cell_type": "code",
   "execution_count": 15,
   "id": "92d28813-f656-4b20-ba0e-08fffef6cae8",
   "metadata": {},
   "outputs": [
    {
     "name": "stdout",
     "output_type": "stream",
     "text": [
      "Collecting mplfinance\n",
      "  Downloading mplfinance-0.12.10b0-py3-none-any.whl.metadata (19 kB)\n",
      "Requirement already satisfied: pandas in c:\\anaconda\\envs\\fyp\\lib\\site-packages (2.2.3)\n",
      "Requirement already satisfied: matplotlib in c:\\anaconda\\envs\\fyp\\lib\\site-packages (from mplfinance) (3.10.0)\n",
      "Requirement already satisfied: numpy>=1.26.0 in c:\\anaconda\\envs\\fyp\\lib\\site-packages (from pandas) (2.0.2)\n",
      "Requirement already satisfied: python-dateutil>=2.8.2 in c:\\anaconda\\envs\\fyp\\lib\\site-packages (from pandas) (2.9.0.post0)\n",
      "Requirement already satisfied: pytz>=2020.1 in c:\\anaconda\\envs\\fyp\\lib\\site-packages (from pandas) (2024.1)\n",
      "Requirement already satisfied: tzdata>=2022.7 in c:\\anaconda\\envs\\fyp\\lib\\site-packages (from pandas) (2023.3)\n",
      "Requirement already satisfied: six>=1.5 in c:\\anaconda\\envs\\fyp\\lib\\site-packages (from python-dateutil>=2.8.2->pandas) (1.16.0)\n",
      "Requirement already satisfied: contourpy>=1.0.1 in c:\\anaconda\\envs\\fyp\\lib\\site-packages (from matplotlib->mplfinance) (1.3.1)\n",
      "Requirement already satisfied: cycler>=0.10 in c:\\anaconda\\envs\\fyp\\lib\\site-packages (from matplotlib->mplfinance) (0.11.0)\n",
      "Requirement already satisfied: fonttools>=4.22.0 in c:\\anaconda\\envs\\fyp\\lib\\site-packages (from matplotlib->mplfinance) (4.55.3)\n",
      "Requirement already satisfied: kiwisolver>=1.3.1 in c:\\anaconda\\envs\\fyp\\lib\\site-packages (from matplotlib->mplfinance) (1.4.8)\n",
      "Requirement already satisfied: packaging>=20.0 in c:\\anaconda\\envs\\fyp\\lib\\site-packages (from matplotlib->mplfinance) (24.2)\n",
      "Requirement already satisfied: pillow>=8 in c:\\anaconda\\envs\\fyp\\lib\\site-packages (from matplotlib->mplfinance) (11.1.0)\n",
      "Requirement already satisfied: pyparsing>=2.3.1 in c:\\anaconda\\envs\\fyp\\lib\\site-packages (from matplotlib->mplfinance) (3.2.0)\n",
      "Downloading mplfinance-0.12.10b0-py3-none-any.whl (75 kB)\n",
      "Installing collected packages: mplfinance\n",
      "Successfully installed mplfinance-0.12.10b0\n"
     ]
    }
   ],
   "source": [
    "!pip install mplfinance pandas\n"
   ]
  },
  {
   "cell_type": "code",
   "execution_count": 16,
   "id": "c2a09800-9073-4bc6-a11a-a39b492dc553",
   "metadata": {},
   "outputs": [],
   "source": [
    "import yfinance as yf\n",
    "import pandas as pd\n",
    "import requests\n",
    "from datetime import datetime, timedelta\n",
    "import re\n",
    "from transformers import BertTokenizer, BertForSequenceClassification\n",
    "import torch\n",
    "import os\n",
    "from alpha_vantage.timeseries import TimeSeries\n",
    "import time\n",
    "import mplfinance as mpf"
   ]
  },
  {
   "cell_type": "markdown",
   "id": "5c99692c-1981-46d0-ac93-65f348b7a02c",
   "metadata": {},
   "source": [
    "# Data Collection"
   ]
  },
  {
   "cell_type": "markdown",
   "id": "fc4db003-6bff-4ea4-b04d-6a959e35c323",
   "metadata": {},
   "source": [
    "## Stock Data"
   ]
  },
  {
   "cell_type": "markdown",
   "id": "3d053816-e892-4c45-8182-eb85ab2d5484",
   "metadata": {},
   "source": [
    "### Alpha Vantage"
   ]
  },
  {
   "cell_type": "markdown",
   "id": "ca69f212-5610-45e1-a3a3-35de3385de1a",
   "metadata": {},
   "source": [
    "#### Check Data"
   ]
  },
  {
   "cell_type": "code",
   "execution_count": 13,
   "id": "0c24d838-5196-4bd4-b333-ec4b0c8b5f1f",
   "metadata": {},
   "outputs": [
    {
     "name": "stdout",
     "output_type": "stream",
     "text": [
      "✅ 2014-01 data is already complete.\n",
      "✅ 2014-02 data is already complete.\n",
      "✅ 2014-03 data is already complete.\n",
      "✅ 2014-04 data is already complete.\n",
      "✅ 2014-05 data is already complete.\n",
      "✅ 2014-06 data is already complete.\n",
      "✅ 2014-07 data is already complete.\n",
      "✅ 2014-08 data is already complete.\n",
      "✅ 2014-09 data is already complete.\n",
      "✅ 2014-10 data is already complete.\n",
      "✅ 2014-11 data is already complete.\n",
      "✅ 2014-12 data is already complete.\n",
      "✅ 2015-01 data is already complete.\n",
      "✅ 2015-02 data is already complete.\n",
      "❌ 2015-03 data is missing.\n",
      "❌ 2015-04 data is missing.\n",
      "❌ 2015-05 data is missing.\n",
      "❌ 2015-06 data is missing.\n",
      "❌ 2015-07 data is missing.\n",
      "❌ 2015-08 data is missing.\n",
      "❌ 2015-09 data is missing.\n",
      "❌ 2015-10 data is missing.\n",
      "❌ 2015-11 data is missing.\n",
      "❌ 2015-12 data is missing.\n",
      "❌ 2016-01 data is missing.\n",
      "❌ 2016-02 data is missing.\n",
      "❌ 2016-03 data is missing.\n",
      "❌ 2016-04 data is missing.\n",
      "❌ 2016-05 data is missing.\n",
      "❌ 2016-06 data is missing.\n",
      "❌ 2016-07 data is missing.\n",
      "❌ 2016-08 data is missing.\n",
      "❌ 2016-09 data is missing.\n",
      "❌ 2016-10 data is missing.\n",
      "❌ 2016-11 data is missing.\n",
      "❌ 2016-12 data is missing.\n",
      "❌ 2017-01 data is missing.\n",
      "❌ 2017-02 data is missing.\n",
      "❌ 2017-03 data is missing.\n",
      "❌ 2017-04 data is missing.\n",
      "❌ 2017-05 data is missing.\n",
      "❌ 2017-06 data is missing.\n",
      "❌ 2017-07 data is missing.\n",
      "❌ 2017-08 data is missing.\n",
      "❌ 2017-09 data is missing.\n",
      "❌ 2017-10 data is missing.\n",
      "❌ 2017-11 data is missing.\n",
      "❌ 2017-12 data is missing.\n",
      "❌ 2018-01 data is missing.\n",
      "❌ 2018-02 data is missing.\n",
      "❌ 2018-03 data is missing.\n",
      "❌ 2018-04 data is missing.\n",
      "❌ 2018-05 data is missing.\n",
      "❌ 2018-06 data is missing.\n",
      "❌ 2018-07 data is missing.\n",
      "❌ 2018-08 data is missing.\n",
      "❌ 2018-09 data is missing.\n",
      "❌ 2018-10 data is missing.\n",
      "❌ 2018-11 data is missing.\n",
      "❌ 2018-12 data is missing.\n",
      "❌ 2019-01 data is missing.\n",
      "❌ 2019-02 data is missing.\n",
      "❌ 2019-03 data is missing.\n",
      "❌ 2019-04 data is missing.\n",
      "❌ 2019-05 data is missing.\n",
      "❌ 2019-06 data is missing.\n",
      "❌ 2019-07 data is missing.\n",
      "❌ 2019-08 data is missing.\n",
      "❌ 2019-09 data is missing.\n",
      "❌ 2019-10 data is missing.\n",
      "❌ 2019-11 data is missing.\n",
      "❌ 2019-12 data is missing.\n",
      "❌ 2020-01 data is missing.\n",
      "❌ 2020-02 data is missing.\n",
      "❌ 2020-03 data is missing.\n",
      "❌ 2020-04 data is missing.\n",
      "❌ 2020-05 data is missing.\n",
      "❌ 2020-06 data is missing.\n",
      "❌ 2020-07 data is missing.\n",
      "❌ 2020-08 data is missing.\n",
      "❌ 2020-09 data is missing.\n",
      "❌ 2020-10 data is missing.\n",
      "❌ 2020-11 data is missing.\n",
      "❌ 2020-12 data is missing.\n",
      "❌ 2021-01 data is missing.\n",
      "❌ 2021-02 data is missing.\n",
      "❌ 2021-03 data is missing.\n",
      "❌ 2021-04 data is missing.\n",
      "❌ 2021-05 data is missing.\n",
      "❌ 2021-06 data is missing.\n",
      "❌ 2021-07 data is missing.\n",
      "❌ 2021-08 data is missing.\n",
      "❌ 2021-09 data is missing.\n",
      "❌ 2021-10 data is missing.\n",
      "❌ 2021-11 data is missing.\n",
      "❌ 2021-12 data is missing.\n",
      "❌ 2022-01 data is missing.\n",
      "❌ 2022-02 data is missing.\n",
      "❌ 2022-03 data is missing.\n",
      "❌ 2022-04 data is missing.\n",
      "❌ 2022-05 data is missing.\n",
      "❌ 2022-06 data is missing.\n",
      "❌ 2022-07 data is missing.\n",
      "❌ 2022-08 data is missing.\n",
      "❌ 2022-09 data is missing.\n",
      "❌ 2022-10 data is missing.\n",
      "❌ 2022-11 data is missing.\n",
      "❌ 2022-12 data is missing.\n",
      "❌ 2023-01 data is missing.\n",
      "❌ 2023-02 data is missing.\n",
      "❌ 2023-03 data is missing.\n",
      "❌ 2023-04 data is missing.\n",
      "❌ 2023-05 data is missing.\n",
      "❌ 2023-06 data is missing.\n",
      "❌ 2023-07 data is missing.\n",
      "❌ 2023-08 data is missing.\n",
      "❌ 2023-09 data is missing.\n",
      "❌ 2023-10 data is missing.\n",
      "❌ 2023-11 data is missing.\n",
      "❌ 2023-12 data is missing.\n",
      "✅ 2024-01 data is already complete.\n",
      "✅ 2024-02 data is already complete.\n",
      "✅ 2024-03 data is already complete.\n",
      "✅ 2024-04 data is already complete.\n",
      "✅ 2024-05 data is already complete.\n",
      "✅ 2024-06 data is already complete.\n",
      "✅ 2024-07 data is already complete.\n",
      "✅ 2024-08 data is already complete.\n",
      "✅ 2024-09 data is already complete.\n",
      "✅ 2024-10 data is already complete.\n",
      "✅ 2024-11 data is already complete.\n",
      "✅ 2024-12 data is already complete.\n",
      "\n",
      "📊 Months that need to be fetched: ['2015-03', '2015-04', '2015-05', '2015-06', '2015-07', '2015-08', '2015-09', '2015-10', '2015-11', '2015-12', '2016-01', '2016-02', '2016-03', '2016-04', '2016-05', '2016-06', '2016-07', '2016-08', '2016-09', '2016-10', '2016-11', '2016-12', '2017-01', '2017-02', '2017-03', '2017-04', '2017-05', '2017-06', '2017-07', '2017-08', '2017-09', '2017-10', '2017-11', '2017-12', '2018-01', '2018-02', '2018-03', '2018-04', '2018-05', '2018-06', '2018-07', '2018-08', '2018-09', '2018-10', '2018-11', '2018-12', '2019-01', '2019-02', '2019-03', '2019-04', '2019-05', '2019-06', '2019-07', '2019-08', '2019-09', '2019-10', '2019-11', '2019-12', '2020-01', '2020-02', '2020-03', '2020-04', '2020-05', '2020-06', '2020-07', '2020-08', '2020-09', '2020-10', '2020-11', '2020-12', '2021-01', '2021-02', '2021-03', '2021-04', '2021-05', '2021-06', '2021-07', '2021-08', '2021-09', '2021-10', '2021-11', '2021-12', '2022-01', '2022-02', '2022-03', '2022-04', '2022-05', '2022-06', '2022-07', '2022-08', '2022-09', '2022-10', '2022-11', '2022-12', '2023-01', '2023-02', '2023-03', '2023-04', '2023-05', '2023-06', '2023-07', '2023-08', '2023-09', '2023-10', '2023-11', '2023-12']\n",
      "📝 Missing months list saved in AAPL_30min_data\\missing_months_10yr.txt\n"
     ]
    }
   ],
   "source": [
    "# Directory where stock data is stored\n",
    "output_dir = \"AAPL_30min_data\"\n",
    "os.makedirs(output_dir, exist_ok=True)\n",
    "\n",
    "# List of years (2014-2024) and months\n",
    "years = list(range(2014, 2025))\n",
    "months_10yr = [f\"{y}-{str(m).zfill(2)}\" for y in years for m in range(1, 13)]\n",
    "\n",
    "# List of NYSE stock market holidays (2014-2024)\n",
    "stock_market_holidays = [\n",
    "    \"2024-01-01\", \"2024-01-15\", \"2024-02-19\", \"2024-03-29\", \"2024-05-27\", \"2024-06-19\",\n",
    "    \"2024-07-04\", \"2024-09-02\", \"2024-11-28\", \"2024-12-25\", \"2023-01-02\", \"2023-01-16\",\n",
    "    \"2023-02-20\", \"2023-04-07\", \"2023-05-29\", \"2023-07-04\", \"2023-09-04\", \"2023-11-23\",\n",
    "    \"2023-12-25\", \"2022-01-01\", \"2022-01-17\", \"2022-02-21\", \"2022-04-15\", \"2022-05-30\", \n",
    "    \"2022-07-04\", \"2022-09-05\", \"2022-11-24\", \"2022-12-26\", \"2021-01-01\", \"2021-01-18\",\n",
    "    \"2021-02-15\", \"2021-04-02\", \"2021-05-31\", \"2021-07-05\", \"2021-09-06\", \"2021-11-25\", \n",
    "    \"2021-12-24\", \"2020-01-01\", \"2020-01-20\", \"2020-02-17\", \"2020-04-10\", \"2020-05-25\", \n",
    "    \"2020-07-03\", \"2020-09-07\", \"2020-11-26\", \"2020-12-25\", \"2019-01-01\", \"2019-01-21\", \n",
    "    \"2019-02-18\", \"2019-04-19\", \"2019-05-27\", \"2019-07-04\", \"2019-09-02\", \"2019-11-28\", \n",
    "    \"2019-12-25\", \"2018-01-01\", \"2018-01-15\", \"2018-02-19\", \"2018-03-30\", \"2018-05-28\", \n",
    "    \"2018-07-04\", \"2018-09-03\", \"2018-11-22\", \"2018-12-25\", \"2017-01-02\", \"2017-01-16\", \n",
    "    \"2017-02-20\", \"2017-04-14\", \"2017-05-29\", \"2017-07-04\", \"2017-09-04\", \"2017-11-23\", \n",
    "    \"2017-12-25\", \"2016-01-01\", \"2016-01-18\", \"2016-02-15\", \"2016-03-25\", \"2016-05-30\", \n",
    "    \"2016-07-04\", \"2016-09-05\", \"2016-11-24\", \"2016-12-26\", \"2015-01-01\", \"2015-01-19\", \n",
    "    \"2015-02-16\", \"2015-04-03\", \"2015-05-25\", \"2015-07-03\", \"2015-09-07\", \"2015-11-26\", \n",
    "    \"2015-12-25\", \"2014-01-01\", \"2014-01-20\", \"2014-02-17\", \"2014-04-18\", \"2014-05-26\", \n",
    "    \"2014-07-04\", \"2014-09-01\", \"2014-11-27\", \"2014-12-25\"\n",
    "]\n",
    "stock_market_holidays = [pd.to_datetime(date).date() for date in stock_market_holidays]\n",
    "\n",
    "# Function to check if a month's data is complete\n",
    "def check_existing_data(month):\n",
    "    file_path = os.path.join(output_dir, f\"AAPL_30min_{month}.csv\")\n",
    "\n",
    "    if os.path.exists(file_path):\n",
    "        df = pd.read_csv(file_path, parse_dates=[\"date\"], index_col=\"date\")\n",
    "\n",
    "        # Generate expected business days (Mon-Fri)\n",
    "        expected_days = pd.date_range(start=f\"{month}-01\", end=f\"{month}-28\", freq=\"B\")\n",
    "\n",
    "        # Find missing weekdays (excluding stock market holidays)\n",
    "        missing_days = [d.date() for d in expected_days if d.date() not in df.index.date and d.date() not in stock_market_holidays]\n",
    "\n",
    "        if missing_days:\n",
    "            print(f\"⚠️ WARNING: {month} is missing these weekdays: {missing_days}\")\n",
    "            return False  # Data is incomplete\n",
    "        else:\n",
    "            print(f\"✅ {month} data is already complete.\")\n",
    "            return True  # Data is complete\n",
    "\n",
    "    else:\n",
    "        print(f\"❌ {month} data is missing.\")\n",
    "        return False  # File doesn't exist\n",
    "\n",
    "# Check all months\n",
    "months_to_fetch = [month for month in months_10yr if not check_existing_data(month)]\n",
    "\n",
    "# Save missing months to a file (for later collection)\n",
    "missing_months_file = os.path.join(output_dir, \"missing_months_10yr.txt\")\n",
    "with open(missing_months_file, \"w\") as f:\n",
    "    for month in months_to_fetch:\n",
    "        f.write(month + \"\\n\")\n",
    "\n",
    "print(\"\\n📊 Months that need to be fetched:\", months_to_fetch)\n",
    "print(f\"📝 Missing months list saved in {missing_months_file}\")\n"
   ]
  },
  {
   "cell_type": "code",
   "execution_count": 9,
   "id": "30ebd6b4-7713-473c-a3e0-a28af1299da1",
   "metadata": {},
   "outputs": [
    {
     "name": "stdout",
     "output_type": "stream",
     "text": [
      "✅ 2024-01 data is already complete.\n",
      "✅ 2024-02 data is already complete.\n",
      "✅ 2024-03 data is already complete.\n",
      "✅ 2024-04 data is already complete.\n",
      "✅ 2024-05 data is already complete.\n",
      "✅ 2024-06 data is already complete.\n",
      "✅ 2024-07 data is already complete.\n",
      "✅ 2024-08 data is already complete.\n",
      "✅ 2024-09 data is already complete.\n",
      "✅ 2024-10 data is already complete.\n",
      "✅ 2024-11 data is already complete.\n",
      "✅ 2024-12 data is already complete.\n",
      "\n",
      "📊 Months that need to be fetched: []\n",
      "📝 Missing months list saved in AAPL_30min_data\\missing_months.txt\n"
     ]
    }
   ],
   "source": [
    "# Directory where stock data is stored\n",
    "output_dir = \"AAPL_30min_data\"\n",
    "os.makedirs(output_dir, exist_ok=True)\n",
    "\n",
    "# List of months in 2024\n",
    "months_2024 = [f\"2024-{str(m).zfill(2)}\" for m in range(1, 13)]\n",
    "\n",
    "# List of 2024 U.S. stock market holidays\n",
    "stock_market_holidays = [\n",
    "    \"2024-01-01\", \"2024-01-15\", \"2024-02-19\", \"2024-05-27\", \"2024-06-19\",\n",
    "    \"2024-07-04\", \"2024-09-02\", \"2024-11-28\", \"2024-12-25\"\n",
    "]\n",
    "stock_market_holidays = [pd.to_datetime(date).date() for date in stock_market_holidays]\n",
    "\n",
    "# Function to check if a month's data is complete\n",
    "def check_existing_data(month):\n",
    "    file_path = os.path.join(output_dir, f\"AAPL_30min_{month}.csv\")\n",
    "\n",
    "    if os.path.exists(file_path):\n",
    "        df = pd.read_csv(file_path, parse_dates=[\"date\"], index_col=\"date\")\n",
    "\n",
    "        # Generate expected business days (Mon-Fri)\n",
    "        expected_days = pd.date_range(start=f\"{month}-01\", end=f\"{month}-28\", freq=\"B\")\n",
    "\n",
    "        # Find missing weekdays, excluding stock market holidays\n",
    "        missing_days = [d.date() for d in expected_days if d.date() not in df.index.date and d.date() not in stock_market_holidays]\n",
    "\n",
    "        if missing_days:\n",
    "            print(f\"⚠️ WARNING: {month} is missing these weekdays: {missing_days}\")\n",
    "            return False  # Data is incomplete\n",
    "        else:\n",
    "            print(f\"✅ {month} data is already complete.\")\n",
    "            return True  # Data is complete\n",
    "\n",
    "    else:\n",
    "        print(f\"❌ {month} data is missing.\")\n",
    "        return False  # File doesn't exist\n",
    "\n",
    "# Check all months\n",
    "months_to_fetch = [month for month in months_2024 if not check_existing_data(month)]\n",
    "\n",
    "# Save missing months to a file (for later collection)\n",
    "missing_months_file = os.path.join(output_dir, \"missing_months.txt\")\n",
    "with open(missing_months_file, \"w\") as f:\n",
    "    for month in months_to_fetch:\n",
    "        f.write(month + \"\\n\")\n",
    "\n",
    "print(\"\\n📊 Months that need to be fetched:\", months_to_fetch)\n",
    "print(f\"📝 Missing months list saved in {missing_months_file}\")\n"
   ]
  },
  {
   "cell_type": "code",
   "execution_count": null,
   "id": "46573ca0-d0a3-4e46-9815-24ff46f63862",
   "metadata": {},
   "outputs": [],
   "source": [
    "# Api Key\n",
    "api = X29K76EJP70V2JGP"
   ]
  },
  {
   "cell_type": "markdown",
   "id": "d314d6c5-749d-4e5a-8e59-a17e144c954f",
   "metadata": {},
   "source": [
    "#### Collect Data"
   ]
  },
  {
   "cell_type": "code",
   "execution_count": 11,
   "id": "d21ecd44-6f04-4c6d-8a97-4ffe61fb1242",
   "metadata": {},
   "outputs": [
    {
     "name": "stdout",
     "output_type": "stream",
     "text": [
      "📊 Fetching data for 2014-01...\n",
      "✅ Successfully collected data for 2014-01\n",
      "📊 Fetching data for 2014-02...\n",
      "✅ Successfully collected data for 2014-02\n",
      "📊 Fetching data for 2014-03...\n",
      "✅ Successfully collected data for 2014-03\n",
      "📊 Fetching data for 2014-04...\n",
      "✅ Successfully collected data for 2014-04\n",
      "📊 Fetching data for 2014-05...\n",
      "✅ Successfully collected data for 2014-05\n",
      "📊 Fetching data for 2014-06...\n",
      "✅ Successfully collected data for 2014-06\n",
      "📊 Fetching data for 2014-07...\n",
      "✅ Successfully collected data for 2014-07\n",
      "📊 Fetching data for 2014-08...\n",
      "✅ Successfully collected data for 2014-08\n",
      "📊 Fetching data for 2014-09...\n",
      "✅ Successfully collected data for 2014-09\n",
      "📊 Fetching data for 2014-10...\n",
      "✅ Successfully collected data for 2014-10\n",
      "📊 Fetching data for 2014-11...\n",
      "✅ Successfully collected data for 2014-11\n",
      "📊 Fetching data for 2014-12...\n",
      "✅ Successfully collected data for 2014-12\n",
      "📊 Fetching data for 2015-01...\n",
      "✅ Successfully collected data for 2015-01\n",
      "📊 Fetching data for 2015-02...\n",
      "✅ Successfully collected data for 2015-02\n",
      "📊 Fetching data for 2015-03...\n",
      "❌ Error fetching data for 2015-03: Thank you for using Alpha Vantage! Our standard API rate limit is 25 requests per day. Please subscribe to any of the premium plans at https://www.alphavantage.co/premium/ to instantly remove all daily rate limits.\n",
      "⚠️ Stopping process. Run the script again to continue from the last successful month.\n",
      "📊 All missing 30-minute interval stock data has been processed.\n"
     ]
    }
   ],
   "source": [
    "# Your Alpha Vantage API Key\n",
    "api_key = \"X29K76EJP70V2JGP\"\n",
    "\n",
    "# Initialize Alpha Vantage API\n",
    "ts = TimeSeries(key=api_key, output_format=\"pandas\")\n",
    "\n",
    "# Read the missing months file\n",
    "missing_months_file = \"AAPL_30min_data/missing_months_10yr.txt\"\n",
    "\n",
    "try:\n",
    "    with open(missing_months_file, \"r\") as f:\n",
    "        months_to_fetch = f.read().splitlines()\n",
    "except FileNotFoundError:\n",
    "    print(\"✅ No missing months found. Data is complete.\")\n",
    "    months_to_fetch = []\n",
    "\n",
    "# Fetch data for each missing month\n",
    "for month in months_to_fetch:\n",
    "    output_file = f\"AAPL_30min_data/AAPL_30min_{month}.csv\"\n",
    "\n",
    "    try:\n",
    "        print(f\"📊 Fetching data for {month}...\")\n",
    "        \n",
    "        # Fetch data for the given month\n",
    "        data, meta_data = ts.get_intraday(\n",
    "            symbol=\"AAPL\", \n",
    "            interval=\"30min\", \n",
    "            month=month, \n",
    "            adjusted=True, \n",
    "            extended_hours=False,\n",
    "            outputsize=\"full\"\n",
    "        )\n",
    "\n",
    "        # Convert index to datetime\n",
    "        data.index = pd.to_datetime(data.index)\n",
    "\n",
    "        # Rename columns\n",
    "        data.columns = [\"Open\", \"High\", \"Low\", \"Close\", \"Volume\"]\n",
    "\n",
    "        # Save to CSV\n",
    "        data.to_csv(output_file)\n",
    "        \n",
    "        print(f\"✅ Successfully collected data for {month}\")\n",
    "        time.sleep(12)  # Avoid API rate limits\n",
    "\n",
    "    except Exception as e:\n",
    "        print(f\"❌ Error fetching data for {month}: {e}\")\n",
    "        print(\"⚠️ Stopping process. Run the script again to continue from the last successful month.\")\n",
    "        break  # Stop execution if an error occurs\n",
    "\n",
    "print(\"📊 All missing 30-minute interval stock data has been processed.\")\n"
   ]
  },
  {
   "cell_type": "code",
   "execution_count": 7,
   "id": "297675f7-6be4-4c5b-9043-45d1d0fd8c9f",
   "metadata": {},
   "outputs": [
    {
     "name": "stdout",
     "output_type": "stream",
     "text": [
      "📊 Fetching data for 2024-01...\n",
      "✅ Successfully collected data for 2024-01\n",
      "📊 Fetching data for 2024-02...\n",
      "✅ Successfully collected data for 2024-02\n",
      "📊 Fetching data for 2024-03...\n",
      "✅ Successfully collected data for 2024-03\n",
      "📊 Fetching data for 2024-04...\n",
      "✅ Successfully collected data for 2024-04\n",
      "📊 Fetching data for 2024-05...\n",
      "✅ Successfully collected data for 2024-05\n",
      "📊 Fetching data for 2024-06...\n",
      "✅ Successfully collected data for 2024-06\n",
      "📊 Fetching data for 2024-07...\n",
      "✅ Successfully collected data for 2024-07\n",
      "📊 Fetching data for 2024-08...\n",
      "✅ Successfully collected data for 2024-08\n",
      "📊 Fetching data for 2024-09...\n",
      "✅ Successfully collected data for 2024-09\n",
      "📊 Fetching data for 2024-10...\n",
      "✅ Successfully collected data for 2024-10\n",
      "📊 Fetching data for 2024-11...\n",
      "✅ Successfully collected data for 2024-11\n",
      "📊 Fetching data for 2024-12...\n",
      "✅ Successfully collected data for 2024-12\n",
      "📊 All missing 30-minute interval stock data has been processed.\n"
     ]
    }
   ],
   "source": [
    "# Your Alpha Vantage API Key\n",
    "api_key = \"X29K76EJP70V2JGP\"\n",
    "\n",
    "# Initialize Alpha Vantage API\n",
    "ts = TimeSeries(key=api_key, output_format=\"pandas\")\n",
    "\n",
    "# Read the missing months file\n",
    "missing_months_file = \"AAPL_30min_data/missing_months.txt\"\n",
    "\n",
    "try:\n",
    "    with open(missing_months_file, \"r\") as f:\n",
    "        months_to_fetch = f.read().splitlines()\n",
    "except FileNotFoundError:\n",
    "    print(\"✅ No missing months found. Data is complete.\")\n",
    "    months_to_fetch = []\n",
    "\n",
    "# Function to fetch data for each missing month\n",
    "for month in months_to_fetch:\n",
    "    output_file = f\"AAPL_30min_data/AAPL_30min_{month}.csv\"\n",
    "\n",
    "    try:\n",
    "        print(f\"📊 Fetching data for {month}...\")\n",
    "        data, meta_data = ts.get_intraday(symbol=\"AAPL\", interval=\"30min\", month=month, adjusted=True, extended_hours=False, outputsize=\"full\")\n",
    "\n",
    "        # Convert index to datetime\n",
    "        data.index = pd.to_datetime(data.index)\n",
    "\n",
    "        # Rename columns\n",
    "        data.columns = [\"Open\", \"High\", \"Low\", \"Close\", \"Volume\"]\n",
    "\n",
    "        # Save to CSV\n",
    "        data.to_csv(output_file)\n",
    "        \n",
    "        print(f\"✅ Successfully collected data for {month}\")\n",
    "        time.sleep(12)  # Avoid API rate limits\n",
    "\n",
    "    except Exception as e:\n",
    "        print(f\"❌ Error fetching data for {month}: {e}\")\n",
    "        print(\"⚠️ Stopping process. Run the script again to continue from the last successful month.\")\n",
    "        break  # Stop execution if an error occurs\n",
    "\n",
    "print(\"📊 All missing 30-minute interval stock data has been processed.\")\n"
   ]
  },
  {
   "cell_type": "markdown",
   "id": "7d2573bf-a699-46f0-bfbf-e3a88bdef2a4",
   "metadata": {},
   "source": [
    "#### Merge File"
   ]
  },
  {
   "cell_type": "code",
   "execution_count": 14,
   "id": "24f1d6a6-8e12-411f-ad53-5a1be0a87d76",
   "metadata": {},
   "outputs": [
    {
     "name": "stdout",
     "output_type": "stream",
     "text": [
      "✅ Merged AAPL 30-minute data (2014-2024) saved as AAPL.csv\n",
      "                        Open     High      Low    Close    Volume\n",
      "date                                                             \n",
      "2014-01-02 04:00:00  17.2266  17.3138  17.2266  17.3057  135072.0\n",
      "2014-01-02 04:30:00  17.3044  17.3047  17.3001  17.3001   16800.0\n",
      "2014-01-02 05:00:00  17.2823  17.2823  17.2581  17.2581    8400.0\n",
      "2014-01-02 05:30:00  17.2562  17.2649  17.2562  17.2649   14000.0\n",
      "2014-01-02 06:00:00  17.3075  17.3107  17.2733  17.2733   59584.0\n"
     ]
    }
   ],
   "source": [
    "# Directory where monthly data is stored\n",
    "data_dir = \"AAPL_30min_data\"\n",
    "\n",
    "# List all CSV files\n",
    "csv_files = [f for f in os.listdir(data_dir) if f.endswith(\".csv\") and \"AAPL_30min_\" in f]\n",
    "\n",
    "# Create an empty DataFrame to store merged data\n",
    "merged_df = pd.DataFrame()\n",
    "\n",
    "# Load and append each file\n",
    "for file in csv_files:\n",
    "    file_path = os.path.join(data_dir, file)\n",
    "    df = pd.read_csv(file_path, parse_dates=[\"date\"], index_col=\"date\")\n",
    "    merged_df = pd.concat([merged_df, df])\n",
    "\n",
    "# Sort by date\n",
    "merged_df.sort_index(inplace=True)\n",
    "\n",
    "# Save the merged dataset\n",
    "output_file = \"AAPL.csv\"\n",
    "merged_df.to_csv(output_file)\n",
    "\n",
    "print(f\"✅ Merged AAPL 30-minute data (2014-2024) saved as {output_file}\")\n",
    "print(merged_df.head())  # Display first few rows\n"
   ]
  },
  {
   "cell_type": "markdown",
   "id": "3989aac2-6451-4bba-99b1-aa839f26ebf6",
   "metadata": {},
   "source": [
    "### yfinance"
   ]
  },
  {
   "cell_type": "markdown",
   "id": "43a86b0b-17d9-4989-9ca5-c441986e2918",
   "metadata": {},
   "source": [
    "#### Collect Data"
   ]
  },
  {
   "cell_type": "code",
   "execution_count": 2,
   "id": "7e495c8d-5764-4fa7-984c-f6b0322785ea",
   "metadata": {},
   "outputs": [
    {
     "name": "stdout",
     "output_type": "stream",
     "text": [
      "YF.download() has changed argument auto_adjust default to True\n"
     ]
    },
    {
     "name": "stderr",
     "output_type": "stream",
     "text": [
      "[*********************100%***********************]  1 of 1 completed\n",
      "[*********************100%***********************]  1 of 1 completed\n"
     ]
    },
    {
     "name": "stdout",
     "output_type": "stream",
     "text": [
      "Downloaded AAPL data.\n",
      "Downloaded MSFT data.\n"
     ]
    },
    {
     "name": "stderr",
     "output_type": "stream",
     "text": [
      "[*********************100%***********************]  1 of 1 completed\n",
      "[*********************100%***********************]  1 of 1 completed\n",
      "[*********************100%***********************]  1 of 1 completed\n"
     ]
    },
    {
     "name": "stdout",
     "output_type": "stream",
     "text": [
      "Downloaded NVDA data.\n",
      "Downloaded AMZN data.\n",
      "Downloaded GOOGL data.\n"
     ]
    },
    {
     "name": "stderr",
     "output_type": "stream",
     "text": [
      "[*********************100%***********************]  1 of 1 completed\n",
      "[*********************100%***********************]  1 of 1 completed\n",
      "[*********************100%***********************]  1 of 1 completed"
     ]
    },
    {
     "name": "stdout",
     "output_type": "stream",
     "text": [
      "Downloaded META data.\n",
      "Downloaded TSLA data.\n",
      "Downloaded AMD data.\n"
     ]
    },
    {
     "name": "stderr",
     "output_type": "stream",
     "text": [
      "\n",
      "[*********************100%***********************]  1 of 1 completed\n",
      "[*********************100%***********************]  1 of 1 completed"
     ]
    },
    {
     "name": "stdout",
     "output_type": "stream",
     "text": [
      "Downloaded NFLX data.\n",
      "Downloaded AVGO data.\n",
      "Stock data collection complete and saved to CSV files.\n"
     ]
    },
    {
     "name": "stderr",
     "output_type": "stream",
     "text": [
      "\n"
     ]
    }
   ],
   "source": [
    "# Define your tech stocks list\n",
    "tech_stocks = [\"AAPL\", \"MSFT\", \"NVDA\", \"AMZN\", \"GOOGL\", \"META\", \"TSLA\", \"AMD\", \"NFLX\", \"AVGO\"]\n",
    "\n",
    "# Function to fetch historical stock data\n",
    "def fetch_stock_data(stocks, period=\"1y\"):\n",
    "    stock_data = {}\n",
    "    for stock in stocks:\n",
    "        df = yf.download(stock, period=period, interval=\"1d\")  # Daily data\n",
    "        stock_data[stock] = df\n",
    "        print(f\"Downloaded {stock} data.\")\n",
    "    return stock_data\n",
    "\n",
    "# Fetch stock data\n",
    "stock_data = fetch_stock_data(tech_stocks)\n",
    "\n",
    "# Save each stock's data as CSV\n",
    "for stock, df in stock_data.items():\n",
    "    df.to_csv(f\"{stock}_historical_data.csv\")\n",
    "\n",
    "print(\"Stock data collection complete and saved to CSV files.\")\n"
   ]
  },
  {
   "cell_type": "markdown",
   "id": "124c7652-3b4c-417e-9557-63db46968e11",
   "metadata": {},
   "source": [
    "#### Check Missing Value"
   ]
  },
  {
   "cell_type": "code",
   "execution_count": 3,
   "id": "d92dab2d-d813-48f1-a2e9-8dfdc0d21a7b",
   "metadata": {},
   "outputs": [
    {
     "name": "stdout",
     "output_type": "stream",
     "text": [
      "<class 'pandas.core.frame.DataFrame'>\n",
      "RangeIndex: 252 entries, 0 to 251\n",
      "Data columns (total 6 columns):\n",
      " #   Column  Non-Null Count  Dtype \n",
      "---  ------  --------------  ----- \n",
      " 0   Price   252 non-null    object\n",
      " 1   Close   251 non-null    object\n",
      " 2   High    251 non-null    object\n",
      " 3   Low     251 non-null    object\n",
      " 4   Open    251 non-null    object\n",
      " 5   Volume  251 non-null    object\n",
      "dtypes: object(6)\n",
      "memory usage: 11.9+ KB\n",
      "None\n",
      "        Price               Close                High                 Low  \\\n",
      "0      Ticker                AAPL                AAPL                AAPL   \n",
      "1        Date                 NaN                 NaN                 NaN   \n",
      "2  2024-02-20   180.7067108154297  181.57261717237213   179.1540448566047   \n",
      "3  2024-02-21   181.4631805419922  182.03049388623003  179.81097819372195   \n",
      "4  2024-02-22  183.50350952148438  184.09074823448796  181.60249751065342   \n",
      "\n",
      "                 Open    Volume  \n",
      "0                AAPL      AAPL  \n",
      "1                 NaN       NaN  \n",
      "2  180.93562562036504  53665600  \n",
      "3  181.08496152111414  41529700  \n",
      "4  182.61769287128237  52292200  \n"
     ]
    }
   ],
   "source": [
    "df = pd.read_csv(\"AAPL_historical_data.csv\")  # Replace with any stock CSV file\n",
    "print(df.info())  # Check data types and missing values\n",
    "print(df.head())  # Preview first few rows\n"
   ]
  },
  {
   "cell_type": "markdown",
   "id": "330a2118-505f-4d74-98ca-74a61ab73595",
   "metadata": {},
   "source": [
    "## News Data"
   ]
  },
  {
   "cell_type": "code",
   "execution_count": 5,
   "id": "86c110e9-5b50-41ad-858d-66a9290ab827",
   "metadata": {},
   "outputs": [
    {
     "name": "stdout",
     "output_type": "stream",
     "text": [
      "News data collected and saved to 'tech_stock_news.csv'.\n"
     ]
    }
   ],
   "source": [
    "# Your NewsAPI Key\n",
    "api_key = \"31dbe344e851496e950dc899ab1d0e93\"\n",
    "\n",
    "# List of tech stocks to search for\n",
    "tech_stocks = [\"Apple\", \"Microsoft\", \"Nvidia\", \"Amazon\", \"Google\", \"Meta\", \"Tesla\", \"AMD\", \"Netflix\", \"Broadcom\"]\n",
    "\n",
    "# Date range for news (last 7 days)\n",
    "end_date = datetime.today().strftime('%Y-%m-%d')\n",
    "start_date = (datetime.today() - timedelta(days=7)).strftime('%Y-%m-%d')\n",
    "\n",
    "# Function to fetch news for each stock\n",
    "def fetch_news(stock):\n",
    "    url = f\"https://newsapi.org/v2/everything?q={stock}&language=en&from={start_date}&to={end_date}&sortBy=publishedAt&apiKey={api_key}\"\n",
    "    response = requests.get(url)\n",
    "    return response.json()\n",
    "\n",
    "# Collect news for all stocks\n",
    "news_data = []\n",
    "for stock in tech_stocks:\n",
    "    data = fetch_news(stock)\n",
    "    if \"articles\" in data:\n",
    "        for article in data[\"articles\"]:\n",
    "            news_data.append({\n",
    "                \"Stock\": stock,\n",
    "                \"Title\": article[\"title\"],\n",
    "                \"Source\": article[\"source\"][\"name\"],\n",
    "                \"Published At\": article[\"publishedAt\"],\n",
    "                \"URL\": article[\"url\"]\n",
    "            })\n",
    "\n",
    "# Convert to DataFrame\n",
    "df_news = pd.DataFrame(news_data)\n",
    "\n",
    "# Save to CSV\n",
    "df_news.to_csv(\"tech_stock_news.csv\", index=False)\n",
    "\n",
    "print(\"News data collected and saved to 'tech_stock_news.csv'.\")\n"
   ]
  },
  {
   "cell_type": "code",
   "execution_count": 6,
   "id": "9691011a-fe2f-4147-b2ff-b971f9bd5c2b",
   "metadata": {},
   "outputs": [
    {
     "name": "stdout",
     "output_type": "stream",
     "text": [
      "   Stock                                              Title          Source  \\\n",
      "0  Apple  Tudor Financial Inc. Grows Stock Holdings in A...  ETF Daily News   \n",
      "1  Apple  iPhone SE 4 live: latest news and rumors ahead...    Slashdot.org   \n",
      "2  Apple  Apple’s February 2025 Event. 6 Biggest Predict...   Geeky Gadgets   \n",
      "3  Apple             How Eric Adams Got His Charges Dropped  Slate Magazine   \n",
      "4  Apple  Apple’s political turn is leading it down a sk...        Macworld   \n",
      "\n",
      "           Published At                                                URL  \n",
      "0  2025-02-18T10:32:53Z  https://www.etfdailynews.com/2025/02/18/tudor-...  \n",
      "1  2025-02-18T10:32:40Z  https://slashdot.org/firehose.pl?op=view&amp;i...  \n",
      "2  2025-02-18T10:30:56Z  https://www.geeky-gadgets.com/apples-february-...  \n",
      "3  2025-02-18T10:30:00Z  https://slate.com/podcasts/what-next/2025/02/w...  \n",
      "4  2025-02-18T10:30:00Z  https://www.macworld.com/article/2611168/apple...  \n"
     ]
    }
   ],
   "source": [
    "# Load the collected news data\n",
    "df_news = pd.read_csv(\"tech_stock_news.csv\")\n",
    "\n",
    "# Display first few rows\n",
    "print(df_news.head())\n"
   ]
  },
  {
   "cell_type": "code",
   "execution_count": 7,
   "id": "34f9bbc3-2532-4dc1-93b5-f2148c1a4bb3",
   "metadata": {},
   "outputs": [
    {
     "name": "stdout",
     "output_type": "stream",
     "text": [
      "Data cleaned and saved.\n"
     ]
    }
   ],
   "source": [
    "def clean_text(text):\n",
    "    text = text.lower()  # Convert to lowercase\n",
    "    text = re.sub(r'\\s+', ' ', text)  # Remove extra spaces\n",
    "    text = re.sub(r'[^\\w\\s]', '', text)  # Remove punctuation\n",
    "    text = text.strip()  # Remove leading/trailing spaces\n",
    "    return text\n",
    "\n",
    "# Apply cleaning\n",
    "df_news[\"Cleaned_Title\"] = df_news[\"Title\"].apply(clean_text)\n",
    "\n",
    "# Save cleaned data\n",
    "df_news.to_csv(\"cleaned_tech_stock_news.csv\", index=False)\n",
    "\n",
    "print(\"Data cleaned and saved.\")\n"
   ]
  },
  {
   "cell_type": "markdown",
   "id": "ca1e3900-361b-408d-b701-123485429416",
   "metadata": {},
   "source": [
    "# Sentiment Analysis"
   ]
  },
  {
   "cell_type": "markdown",
   "id": "a3ef9982-21a0-4f33-be86-0fb25f5067cf",
   "metadata": {},
   "source": [
    "## FinBERT model"
   ]
  },
  {
   "cell_type": "code",
   "execution_count": 1,
   "id": "0f1c7325-9cd2-42aa-9dc9-cd634997ee4c",
   "metadata": {},
   "outputs": [],
   "source": [
    "# Load FinBERT tokenizer & model\n",
    "tokenizer = BertTokenizer.from_pretrained(\"yiyanghkust/finbert-tone\")\n",
    "model = BertForSequenceClassification.from_pretrained(\"yiyanghkust/finbert-tone\")\n"
   ]
  },
  {
   "cell_type": "code",
   "execution_count": 2,
   "id": "0105c8e7-83e2-4c46-b1d9-2430b70ae25d",
   "metadata": {},
   "outputs": [
    {
     "name": "stdout",
     "output_type": "stream",
     "text": [
      "Sentiment: Neutral\n"
     ]
    }
   ],
   "source": [
    "import torch.nn.functional as F\n",
    "\n",
    "def predict_sentiment(text):\n",
    "    inputs = tokenizer(text, return_tensors=\"pt\", truncation=True, padding=True, max_length=512)\n",
    "    outputs = model(**inputs)\n",
    "    probs = F.softmax(outputs.logits, dim=-1)\n",
    "\n",
    "    # Labels: 0 = Negative, 1 = Neutral, 2 = Positive\n",
    "    labels = [\"Negative\", \"Neutral\", \"Positive\"]\n",
    "    sentiment = labels[torch.argmax(probs).item()]\n",
    "    \n",
    "    return sentiment\n",
    "\n",
    "# Test on an example headline\n",
    "example_headline = \"Apple stock soars as earnings beat expectations\"\n",
    "print(f\"Sentiment: {predict_sentiment(example_headline)}\")\n"
   ]
  },
  {
   "cell_type": "code",
   "execution_count": 5,
   "id": "cb9455d7-6c7f-49a6-a38b-8110bca72520",
   "metadata": {},
   "outputs": [
    {
     "name": "stdout",
     "output_type": "stream",
     "text": [
      "Sentiment analysis complete. Results saved.\n"
     ]
    }
   ],
   "source": [
    "df_news = pd.read_csv(\"cleaned_tech_stock_news.csv\")\n",
    "\n",
    "# Apply sentiment analysis to each headline\n",
    "df_news[\"Sentiment\"] = df_news[\"Cleaned_Title\"].apply(predict_sentiment)\n",
    "\n",
    "# Save results\n",
    "df_news.to_csv(\"news_sentiment_analysis.csv\", index=False)\n",
    "\n",
    "print(\"Sentiment analysis complete. Results saved.\")\n"
   ]
  },
  {
   "cell_type": "code",
   "execution_count": 6,
   "id": "4b666c7b-d058-4274-b5b9-43620e3a0cc8",
   "metadata": {},
   "outputs": [
    {
     "name": "stdout",
     "output_type": "stream",
     "text": [
      "Sentiment\n",
      "Negative    773\n",
      "Positive    105\n",
      "Neutral      91\n",
      "Name: count, dtype: int64\n"
     ]
    }
   ],
   "source": [
    "# Load the dataset with sentiment analysis results\n",
    "df_news = pd.read_csv(\"news_sentiment_analysis.csv\")\n",
    "\n",
    "# Count the occurrences of each sentiment category\n",
    "sentiment_counts = df_news[\"Sentiment\"].value_counts()\n",
    "\n",
    "# Display results\n",
    "print(sentiment_counts)\n"
   ]
  },
  {
   "cell_type": "markdown",
   "id": "7f54411f-100c-4b2b-9633-7cd5bf7eb9b9",
   "metadata": {},
   "source": [
    "# Chart Analysis"
   ]
  },
  {
   "cell_type": "code",
   "execution_count": 20,
   "id": "0ce870af-fdc3-4db8-8314-7bef5fc84835",
   "metadata": {},
   "outputs": [
    {
     "name": "stderr",
     "output_type": "stream",
     "text": [
      "C:\\anaconda\\envs\\FYP\\Lib\\site-packages\\mplfinance\\_arg_validators.py:84: UserWarning: \n",
      "\n",
      " ================================================================= \n",
      "\n",
      "   WARNING: YOU ARE PLOTTING SO MUCH DATA THAT IT MAY NOT BE\n",
      "            POSSIBLE TO SEE DETAILS (Candles, Ohlc-Bars, Etc.)\n",
      "   For more information see:\n",
      "   - https://github.com/matplotlib/mplfinance/wiki/Plotting-Too-Much-Data\n",
      "   \n",
      "   TO SILENCE THIS WARNING, set `type='line'` in `mpf.plot()`\n",
      "   OR set kwarg `warn_too_much_data=N` where N is an integer \n",
      "   LARGER than the number of data points you want to plot.\n",
      "\n",
      " ================================================================ \n",
      "  warnings.warn('\\n\\n ================================================================= '+\n"
     ]
    },
    {
     "data": {
      "image/png": "[encoded data removed]",
      "text/plain": [
       "<Figure size 1150x575 with 4 Axes>"
      ]
     },
     "metadata": {},
     "output_type": "display_data"
    }
   ],
   "source": [
    "# Load collected AAPL data\n",
    "df = pd.read_csv(\"AAPL.csv\", parse_dates=[\"date\"], index_col=\"date\")\n",
    "\n",
    "# Select a specific period to visualize (e.g., 1 week in 2024)\n",
    "df_sample = df.loc[\"2024-01-02\":\"2024-01-31\"]  # Change dates as needed\n",
    "\n",
    "# Ensure the DataFrame has the correct columns\n",
    "df_sample = df_sample[[\"Open\", \"High\", \"Low\", \"Close\", \"Volume\"]]\n",
    "\n",
    "# Plot candlestick chart\n",
    "mpf.plot(\n",
    "    df_sample,\n",
    "    type=\"candle\",\n",
    "    style=\"yahoo\",\n",
    "    title=\"AAPL Candlestick Chart (1 Week)\",\n",
    "    ylabel=\"Price (USD)\",\n",
    "    volume=True,\n",
    "    figratio=(12,6),  # Adjust figure size\n",
    "    #mav=(5, 10),  # Add moving averages (5-day & 10-day)\n",
    "    tight_layout=True\n",
    ")\n"
   ]
  },
  {
   "cell_type": "code",
   "execution_count": null,
   "id": "b58a8d5b-50e6-4988-89a3-bda7b1983f8d",
   "metadata": {},
   "outputs": [],
   "source": []
  }
 ],
 "metadata": {
  "kernelspec": {
   "display_name": "Python 3 (ipykernel)",
   "language": "python",
   "name": "python3"
  },
  "language_info": {
   "codemirror_mode": {
    "name": "ipython",
    "version": 3
   },
   "file_extension": ".py",
   "mimetype": "text/x-python",
   "name": "python",
   "nbconvert_exporter": "python",
   "pygments_lexer": "ipython3",
   "version": "3.12.9"
  }
 },
 "nbformat": 4,
 "nbformat_minor": 5
}

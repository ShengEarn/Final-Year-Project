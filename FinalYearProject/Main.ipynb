{
 "cells": [
  {
   "cell_type": "markdown",
   "id": "b09e7e71-4bd0-4b10-a5f0-6db3f76fc269",
   "metadata": {},
   "source": [
    "# Environment Setup"
   ]
  },
  {
   "cell_type": "code",
   "execution_count": null,
   "id": "c8105b0e-f5fc-420e-8890-65b29f0ba1bb",
   "metadata": {
    "scrolled": true
   },
   "outputs": [],
   "source": [
    "!pip install alpha_vantage\n"
   ]
  },
  {
   "cell_type": "code",
   "execution_count": null,
   "id": "92d28813-f656-4b20-ba0e-08fffef6cae8",
   "metadata": {
    "scrolled": true
   },
   "outputs": [],
   "source": [
    "!pip install mplfinance pandas\n"
   ]
  },
  {
   "cell_type": "code",
   "execution_count": null,
   "id": "2276bc0f-371b-4e4a-b017-7355d6448b04",
   "metadata": {
    "scrolled": true
   },
   "outputs": [],
   "source": [
    "!pip install fastapi uvicorn pandas"
   ]
  },
  {
   "cell_type": "code",
   "execution_count": 3,
   "id": "c2a09800-9073-4bc6-a11a-a39b492dc553",
   "metadata": {},
   "outputs": [],
   "source": [
    "import yfinance as yf\n",
    "import pandas as pd\n",
    "import requests\n",
    "from datetime import datetime, timedelta\n",
    "import re\n",
    "from transformers import BertTokenizer, BertForSequenceClassification\n",
    "import torch\n",
    "import os\n",
    "from alpha_vantage.timeseries import TimeSeries\n",
    "import time\n",
    "import mplfinance as mpf"
   ]
  },
  {
   "cell_type": "markdown",
   "id": "5c99692c-1981-46d0-ac93-65f348b7a02c",
   "metadata": {},
   "source": [
    "# Data Collection"
   ]
  },
  {
   "cell_type": "markdown",
   "id": "fc4db003-6bff-4ea4-b04d-6a959e35c323",
   "metadata": {},
   "source": [
    "## Stock Data"
   ]
  },
  {
   "cell_type": "markdown",
   "id": "3d053816-e892-4c45-8182-eb85ab2d5484",
   "metadata": {},
   "source": [
    "### Alpha Vantage"
   ]
  },
  {
   "cell_type": "code",
   "execution_count": null,
   "id": "46573ca0-d0a3-4e46-9815-24ff46f63862",
   "metadata": {},
   "outputs": [],
   "source": [
    "# Api Key\n",
    "api = X29K76EJP70V2JGP\n",
    "FOD3B9ESO9W0Y9UE"
   ]
  },
  {
   "cell_type": "markdown",
   "id": "ca69f212-5610-45e1-a3a3-35de3385de1a",
   "metadata": {},
   "source": [
    "#### 10 year"
   ]
  },
  {
   "cell_type": "markdown",
   "id": "19711c21-5fea-44d9-8798-45e4bdd7e242",
   "metadata": {},
   "source": [
    "Check Data"
   ]
  },
  {
   "cell_type": "code",
   "execution_count": 8,
   "id": "0c24d838-5196-4bd4-b333-ec4b0c8b5f1f",
   "metadata": {
    "scrolled": true
   },
   "outputs": [
    {
     "name": "stdout",
     "output_type": "stream",
     "text": [
      "✅ 2014-01 data is already complete.\n",
      "✅ 2014-02 data is already complete.\n",
      "✅ 2014-03 data is already complete.\n",
      "✅ 2014-04 data is already complete.\n",
      "✅ 2014-05 data is already complete.\n",
      "✅ 2014-06 data is already complete.\n",
      "✅ 2014-07 data is already complete.\n",
      "✅ 2014-08 data is already complete.\n",
      "✅ 2014-09 data is already complete.\n",
      "✅ 2014-10 data is already complete.\n",
      "✅ 2014-11 data is already complete.\n",
      "✅ 2014-12 data is already complete.\n",
      "✅ 2015-01 data is already complete.\n",
      "✅ 2015-02 data is already complete.\n",
      "✅ 2015-03 data is already complete.\n",
      "✅ 2015-04 data is already complete.\n",
      "✅ 2015-05 data is already complete.\n",
      "✅ 2015-06 data is already complete.\n",
      "✅ 2015-07 data is already complete.\n",
      "✅ 2015-08 data is already complete.\n",
      "✅ 2015-09 data is already complete.\n",
      "✅ 2015-10 data is already complete.\n",
      "✅ 2015-11 data is already complete.\n",
      "✅ 2015-12 data is already complete.\n",
      "✅ 2016-01 data is already complete.\n",
      "✅ 2016-02 data is already complete.\n",
      "✅ 2016-03 data is already complete.\n",
      "✅ 2016-04 data is already complete.\n",
      "✅ 2016-05 data is already complete.\n",
      "✅ 2016-06 data is already complete.\n",
      "✅ 2016-07 data is already complete.\n",
      "✅ 2016-08 data is already complete.\n",
      "✅ 2016-09 data is already complete.\n",
      "✅ 2016-10 data is already complete.\n",
      "✅ 2016-11 data is already complete.\n",
      "✅ 2016-12 data is already complete.\n",
      "✅ 2017-01 data is already complete.\n",
      "✅ 2017-02 data is already complete.\n",
      "✅ 2017-03 data is already complete.\n",
      "✅ 2017-04 data is already complete.\n",
      "✅ 2017-05 data is already complete.\n",
      "✅ 2017-06 data is already complete.\n",
      "✅ 2017-07 data is already complete.\n",
      "✅ 2017-08 data is already complete.\n",
      "✅ 2017-09 data is already complete.\n",
      "✅ 2017-10 data is already complete.\n",
      "✅ 2017-11 data is already complete.\n",
      "✅ 2017-12 data is already complete.\n",
      "✅ 2018-01 data is already complete.\n",
      "✅ 2018-02 data is already complete.\n",
      "✅ 2018-03 data is already complete.\n",
      "✅ 2018-04 data is already complete.\n",
      "✅ 2018-05 data is already complete.\n",
      "✅ 2018-06 data is already complete.\n",
      "✅ 2018-07 data is already complete.\n",
      "✅ 2018-08 data is already complete.\n",
      "✅ 2018-09 data is already complete.\n",
      "✅ 2018-10 data is already complete.\n",
      "✅ 2018-11 data is already complete.\n",
      "✅ 2018-12 data is already complete.\n",
      "✅ 2019-01 data is already complete.\n",
      "✅ 2019-02 data is already complete.\n",
      "✅ 2019-03 data is already complete.\n",
      "✅ 2019-04 data is already complete.\n",
      "✅ 2019-05 data is already complete.\n",
      "✅ 2019-06 data is already complete.\n",
      "❌ 2019-07 data is missing.\n",
      "❌ 2019-08 data is missing.\n",
      "❌ 2019-09 data is missing.\n",
      "❌ 2019-10 data is missing.\n",
      "❌ 2019-11 data is missing.\n",
      "❌ 2019-12 data is missing.\n",
      "❌ 2020-01 data is missing.\n",
      "❌ 2020-02 data is missing.\n",
      "❌ 2020-03 data is missing.\n",
      "❌ 2020-04 data is missing.\n",
      "❌ 2020-05 data is missing.\n",
      "❌ 2020-06 data is missing.\n",
      "❌ 2020-07 data is missing.\n",
      "❌ 2020-08 data is missing.\n",
      "❌ 2020-09 data is missing.\n",
      "❌ 2020-10 data is missing.\n",
      "❌ 2020-11 data is missing.\n",
      "❌ 2020-12 data is missing.\n",
      "❌ 2021-01 data is missing.\n",
      "❌ 2021-02 data is missing.\n",
      "❌ 2021-03 data is missing.\n",
      "❌ 2021-04 data is missing.\n",
      "❌ 2021-05 data is missing.\n",
      "❌ 2021-06 data is missing.\n",
      "❌ 2021-07 data is missing.\n",
      "❌ 2021-08 data is missing.\n",
      "❌ 2021-09 data is missing.\n",
      "❌ 2021-10 data is missing.\n",
      "❌ 2021-11 data is missing.\n",
      "❌ 2021-12 data is missing.\n",
      "❌ 2022-01 data is missing.\n",
      "❌ 2022-02 data is missing.\n",
      "❌ 2022-03 data is missing.\n",
      "❌ 2022-04 data is missing.\n",
      "❌ 2022-05 data is missing.\n",
      "❌ 2022-06 data is missing.\n",
      "❌ 2022-07 data is missing.\n",
      "❌ 2022-08 data is missing.\n",
      "❌ 2022-09 data is missing.\n",
      "❌ 2022-10 data is missing.\n",
      "❌ 2022-11 data is missing.\n",
      "❌ 2022-12 data is missing.\n",
      "❌ 2023-01 data is missing.\n",
      "❌ 2023-02 data is missing.\n",
      "❌ 2023-03 data is missing.\n",
      "❌ 2023-04 data is missing.\n",
      "❌ 2023-05 data is missing.\n",
      "❌ 2023-06 data is missing.\n",
      "❌ 2023-07 data is missing.\n",
      "❌ 2023-08 data is missing.\n",
      "❌ 2023-09 data is missing.\n",
      "❌ 2023-10 data is missing.\n",
      "❌ 2023-11 data is missing.\n",
      "❌ 2023-12 data is missing.\n",
      "✅ 2024-01 data is already complete.\n",
      "✅ 2024-02 data is already complete.\n",
      "✅ 2024-03 data is already complete.\n",
      "✅ 2024-04 data is already complete.\n",
      "✅ 2024-05 data is already complete.\n",
      "✅ 2024-06 data is already complete.\n",
      "✅ 2024-07 data is already complete.\n",
      "✅ 2024-08 data is already complete.\n",
      "✅ 2024-09 data is already complete.\n",
      "✅ 2024-10 data is already complete.\n",
      "✅ 2024-11 data is already complete.\n",
      "✅ 2024-12 data is already complete.\n",
      "\n",
      "📊 Months that need to be fetched: ['2019-07', '2019-08', '2019-09', '2019-10', '2019-11', '2019-12', '2020-01', '2020-02', '2020-03', '2020-04', '2020-05', '2020-06', '2020-07', '2020-08', '2020-09', '2020-10', '2020-11', '2020-12', '2021-01', '2021-02', '2021-03', '2021-04', '2021-05', '2021-06', '2021-07', '2021-08', '2021-09', '2021-10', '2021-11', '2021-12', '2022-01', '2022-02', '2022-03', '2022-04', '2022-05', '2022-06', '2022-07', '2022-08', '2022-09', '2022-10', '2022-11', '2022-12', '2023-01', '2023-02', '2023-03', '2023-04', '2023-05', '2023-06', '2023-07', '2023-08', '2023-09', '2023-10', '2023-11', '2023-12']\n",
      "📝 Missing months list saved in AAPL_30min_data\\missing_months_10yr.txt\n"
     ]
    }
   ],
   "source": [
    "# Directory where stock data is stored\n",
    "output_dir = \"AAPL_30min_data\"\n",
    "os.makedirs(output_dir, exist_ok=True)\n",
    "\n",
    "# List of years (2014-2024) and months\n",
    "years = list(range(2014, 2025))\n",
    "months_10yr = [f\"{y}-{str(m).zfill(2)}\" for y in years for m in range(1, 13)]\n",
    "\n",
    "# List of NYSE stock market holidays (2014-2024)\n",
    "stock_market_holidays = [\n",
    "    \"2024-01-01\", \"2024-01-15\", \"2024-02-19\", \"2024-03-29\", \"2024-05-27\", \"2024-06-19\",\n",
    "    \"2024-07-04\", \"2024-09-02\", \"2024-11-28\", \"2024-12-25\", \"2023-01-02\", \"2023-01-16\",\n",
    "    \"2023-02-20\", \"2023-04-07\", \"2023-05-29\", \"2023-07-04\", \"2023-09-04\", \"2023-11-23\",\n",
    "    \"2023-12-25\", \"2022-01-01\", \"2022-01-17\", \"2022-02-21\", \"2022-04-15\", \"2022-05-30\", \n",
    "    \"2022-07-04\", \"2022-09-05\", \"2022-11-24\", \"2022-12-26\", \"2021-01-01\", \"2021-01-18\",\n",
    "    \"2021-02-15\", \"2021-04-02\", \"2021-05-31\", \"2021-07-05\", \"2021-09-06\", \"2021-11-25\", \n",
    "    \"2021-12-24\", \"2020-01-01\", \"2020-01-20\", \"2020-02-17\", \"2020-04-10\", \"2020-05-25\", \n",
    "    \"2020-07-03\", \"2020-09-07\", \"2020-11-26\", \"2020-12-25\", \"2019-01-01\", \"2019-01-21\", \n",
    "    \"2019-02-18\", \"2019-04-19\", \"2019-05-27\", \"2019-07-04\", \"2019-09-02\", \"2019-11-28\", \n",
    "    \"2019-12-25\", \"2018-01-01\", \"2018-01-15\", \"2018-02-19\", \"2018-03-30\", \"2018-05-28\", \n",
    "    \"2018-07-04\", \"2018-09-03\", \"2018-11-22\", \"2018-12-05\", \"2018-12-25\", \"2017-01-02\", \n",
    "    \"2017-01-16\", \"2017-02-20\", \"2017-04-14\", \"2017-05-29\", \"2017-07-04\", \"2017-09-04\", \n",
    "    \"2017-11-23\", \"2017-12-25\", \"2016-01-01\", \"2016-01-18\", \"2016-02-15\", \"2016-03-25\", \n",
    "    \"2016-05-30\", \"2016-07-04\", \"2016-09-05\", \"2016-11-24\", \"2016-12-26\", \"2015-01-01\", \n",
    "    \"2015-01-19\", \"2015-02-16\", \"2015-04-03\", \"2015-05-25\", \"2015-07-03\", \"2015-09-07\",\n",
    "    \"2015-11-26\", \"2015-12-25\", \"2014-01-01\", \"2014-01-20\", \"2014-02-17\", \"2014-04-18\", \n",
    "    \"2014-05-26\", \"2014-07-04\", \"2014-09-01\", \"2014-11-27\", \"2014-12-25\"\n",
    "]\n",
    "stock_market_holidays = [pd.to_datetime(date).date() for date in stock_market_holidays]\n",
    "\n",
    "# Function to check if a month's data is complete\n",
    "def check_existing_data(month):\n",
    "    file_path = os.path.join(output_dir, f\"AAPL_30min_{month}.csv\")\n",
    "\n",
    "    if os.path.exists(file_path):\n",
    "        df = pd.read_csv(file_path, parse_dates=[\"date\"], index_col=\"date\")\n",
    "\n",
    "        # Generate expected business days (Mon-Fri)\n",
    "        expected_days = pd.date_range(start=f\"{month}-01\", end=f\"{month}-28\", freq=\"B\")\n",
    "\n",
    "        # Find missing weekdays (excluding stock market holidays)\n",
    "        missing_days = [d.date() for d in expected_days if d.date() not in df.index.date and d.date() not in stock_market_holidays]\n",
    "\n",
    "        if missing_days:\n",
    "            print(f\"⚠️ WARNING: {month} is missing these weekdays: {missing_days}\")\n",
    "            return False  # Data is incomplete\n",
    "        else:\n",
    "            print(f\"✅ {month} data is already complete.\")\n",
    "            return True  # Data is complete\n",
    "\n",
    "    else:\n",
    "        print(f\"❌ {month} data is missing.\")\n",
    "        return False  # File doesn't exist\n",
    "\n",
    "# Check all months\n",
    "months_to_fetch = [month for month in months_10yr if not check_existing_data(month)]\n",
    "\n",
    "# Save missing months to a file (for later collection)\n",
    "missing_months_file = os.path.join(output_dir, \"missing_months_10yr.txt\")\n",
    "with open(missing_months_file, \"w\") as f:\n",
    "    for month in months_to_fetch:\n",
    "        f.write(month + \"\\n\")\n",
    "\n",
    "print(\"\\n📊 Months that need to be fetched:\", months_to_fetch)\n",
    "print(f\"📝 Missing months list saved in {missing_months_file}\")\n"
   ]
  },
  {
   "cell_type": "markdown",
   "id": "3c392adf-a674-418e-bd02-da512edc070c",
   "metadata": {},
   "source": [
    "Get Data"
   ]
  },
  {
   "cell_type": "code",
   "execution_count": 5,
   "id": "d21ecd44-6f04-4c6d-8a97-4ffe61fb1242",
   "metadata": {
    "scrolled": true
   },
   "outputs": [
    {
     "name": "stdout",
     "output_type": "stream",
     "text": [
      "📊 Fetching data for 2017-05...\n",
      "✅ Successfully collected data for 2017-05\n",
      "📊 Fetching data for 2017-06...\n",
      "✅ Successfully collected data for 2017-06\n",
      "📊 Fetching data for 2017-07...\n",
      "✅ Successfully collected data for 2017-07\n",
      "📊 Fetching data for 2017-08...\n",
      "✅ Successfully collected data for 2017-08\n",
      "📊 Fetching data for 2017-09...\n",
      "✅ Successfully collected data for 2017-09\n",
      "📊 Fetching data for 2017-10...\n",
      "✅ Successfully collected data for 2017-10\n",
      "📊 Fetching data for 2017-11...\n",
      "✅ Successfully collected data for 2017-11\n",
      "📊 Fetching data for 2017-12...\n",
      "✅ Successfully collected data for 2017-12\n",
      "📊 Fetching data for 2018-01...\n",
      "✅ Successfully collected data for 2018-01\n",
      "📊 Fetching data for 2018-02...\n",
      "✅ Successfully collected data for 2018-02\n",
      "📊 Fetching data for 2018-03...\n",
      "✅ Successfully collected data for 2018-03\n",
      "📊 Fetching data for 2018-04...\n",
      "✅ Successfully collected data for 2018-04\n",
      "📊 Fetching data for 2018-05...\n",
      "✅ Successfully collected data for 2018-05\n",
      "📊 Fetching data for 2018-06...\n",
      "✅ Successfully collected data for 2018-06\n",
      "📊 Fetching data for 2018-07...\n",
      "✅ Successfully collected data for 2018-07\n",
      "📊 Fetching data for 2018-08...\n",
      "✅ Successfully collected data for 2018-08\n",
      "📊 Fetching data for 2018-09...\n",
      "✅ Successfully collected data for 2018-09\n",
      "📊 Fetching data for 2018-10...\n",
      "✅ Successfully collected data for 2018-10\n",
      "📊 Fetching data for 2018-11...\n",
      "✅ Successfully collected data for 2018-11\n",
      "📊 Fetching data for 2018-12...\n",
      "✅ Successfully collected data for 2018-12\n",
      "📊 Fetching data for 2019-01...\n",
      "✅ Successfully collected data for 2019-01\n",
      "📊 Fetching data for 2019-02...\n",
      "✅ Successfully collected data for 2019-02\n",
      "📊 Fetching data for 2019-03...\n",
      "✅ Successfully collected data for 2019-03\n",
      "📊 Fetching data for 2019-04...\n",
      "✅ Successfully collected data for 2019-04\n",
      "📊 Fetching data for 2019-05...\n",
      "✅ Successfully collected data for 2019-05\n",
      "📊 Fetching data for 2019-06...\n",
      "✅ Successfully collected data for 2019-06\n",
      "📊 Fetching data for 2019-07...\n",
      "❌ Error fetching data for 2019-07: Thank you for using Alpha Vantage! Our standard API rate limit is 25 requests per day. Please subscribe to any of the premium plans at https://www.alphavantage.co/premium/ to instantly remove all daily rate limits.\n",
      "⚠️ Stopping process. Run the script again to continue from the last successful month.\n",
      "📊 All missing 30-minute interval stock data has been processed.\n"
     ]
    }
   ],
   "source": [
    "# Your Alpha Vantage API Key\n",
    "api_key = \"X29K76EJP70V2JGP\"\n",
    "\n",
    "# Initialize Alpha Vantage API\n",
    "ts = TimeSeries(key=api_key, output_format=\"pandas\")\n",
    "\n",
    "# Read the missing months file\n",
    "missing_months_file = \"AAPL_30min_data/missing_months_10yr.txt\"\n",
    "\n",
    "try:\n",
    "    with open(missing_months_file, \"r\") as f:\n",
    "        months_to_fetch = f.read().splitlines()\n",
    "except FileNotFoundError:\n",
    "    print(\"✅ No missing months found. Data is complete.\")\n",
    "    months_to_fetch = []\n",
    "\n",
    "# Fetch data for each missing month\n",
    "for month in months_to_fetch:\n",
    "    output_file = f\"AAPL_30min_data/AAPL_30min_{month}.csv\"\n",
    "\n",
    "    try:\n",
    "        print(f\"📊 Fetching data for {month}...\")\n",
    "        \n",
    "        # Fetch data for the given month\n",
    "        data, meta_data = ts.get_intraday(\n",
    "            symbol=\"AAPL\", \n",
    "            interval=\"30min\", \n",
    "            month=month, \n",
    "            adjusted=True, \n",
    "            extended_hours=False,\n",
    "            outputsize=\"full\"\n",
    "        )\n",
    "\n",
    "        # Convert index to datetime\n",
    "        data.index = pd.to_datetime(data.index)\n",
    "\n",
    "        # Rename columns\n",
    "        data.columns = [\"Open\", \"High\", \"Low\", \"Close\", \"Volume\"]\n",
    "\n",
    "        # Save to CSV\n",
    "        data.to_csv(output_file)\n",
    "        \n",
    "        print(f\"✅ Successfully collected data for {month}\")\n",
    "        time.sleep(12)  # Avoid API rate limits\n",
    "\n",
    "    except Exception as e:\n",
    "        print(f\"❌ Error fetching data for {month}: {e}\")\n",
    "        print(\"⚠️ Stopping process. Run the script again to continue from the last successful month.\")\n",
    "        break  # Stop execution if an error occurs\n",
    "\n",
    "print(\"📊 All missing 30-minute interval stock data has been processed.\")\n"
   ]
  },
  {
   "cell_type": "markdown",
   "id": "7d2573bf-a699-46f0-bfbf-e3a88bdef2a4",
   "metadata": {},
   "source": [
    "### Merge All Data"
   ]
  },
  {
   "cell_type": "code",
   "execution_count": 5,
   "id": "24f1d6a6-8e12-411f-ad53-5a1be0a87d76",
   "metadata": {},
   "outputs": [
    {
     "name": "stdout",
     "output_type": "stream",
     "text": [
      "✅ Merged AAPL 30-minute data (2014-2024) saved as AAPL.csv\n",
      "                        Open     High      Low    Close    Volume\n",
      "date                                                             \n",
      "2014-01-02 04:00:00  17.2266  17.3138  17.2266  17.3057  135072.0\n",
      "2014-01-02 04:30:00  17.3044  17.3047  17.3001  17.3001   16800.0\n",
      "2014-01-02 05:00:00  17.2823  17.2823  17.2581  17.2581    8400.0\n",
      "2014-01-02 05:30:00  17.2562  17.2649  17.2562  17.2649   14000.0\n",
      "2014-01-02 06:00:00  17.3075  17.3107  17.2733  17.2733   59584.0\n"
     ]
    }
   ],
   "source": [
    "# Directory where monthly data is stored\n",
    "data_dir = \"AAPL_30min_data\"\n",
    "\n",
    "# List all CSV files\n",
    "csv_files = [f for f in os.listdir(data_dir) if f.endswith(\".csv\") and \"AAPL_30min_\" in f]\n",
    "\n",
    "# Create an empty DataFrame to store merged data\n",
    "merged_df = pd.DataFrame()\n",
    "\n",
    "# Load and append each file\n",
    "for file in csv_files:\n",
    "    file_path = os.path.join(data_dir, file)\n",
    "    df = pd.read_csv(file_path, parse_dates=[\"date\"], index_col=\"date\")\n",
    "    merged_df = pd.concat([merged_df, df])\n",
    "\n",
    "# Sort by date\n",
    "merged_df.sort_index(inplace=True)\n",
    "\n",
    "# Save the merged dataset\n",
    "output_file = \"AAPL.csv\"\n",
    "merged_df.to_csv(output_file)\n",
    "\n",
    "print(f\"✅ Merged AAPL 30-minute data (2014-2024) saved as {output_file}\")\n",
    "print(merged_df.head())  # Display first few rows\n"
   ]
  },
  {
   "cell_type": "markdown",
   "id": "3989aac2-6451-4bba-99b1-aa839f26ebf6",
   "metadata": {},
   "source": [
    "### yfinance"
   ]
  },
  {
   "cell_type": "markdown",
   "id": "43a86b0b-17d9-4989-9ca5-c441986e2918",
   "metadata": {},
   "source": [
    "#### Collect Data"
   ]
  },
  {
   "cell_type": "code",
   "execution_count": 11,
   "id": "a30cf5db-7f2a-4ea8-bcf9-66cf1fc934b3",
   "metadata": {
    "scrolled": true
   },
   "outputs": [
    {
     "name": "stdout",
     "output_type": "stream",
     "text": [
      "📊 Fetching full historical data for AAPL...\n"
     ]
    },
    {
     "name": "stderr",
     "output_type": "stream",
     "text": [
      "[*********************100%***********************]  1 of 1 completed\n"
     ]
    },
    {
     "name": "stdout",
     "output_type": "stream",
     "text": [
      "✅ AAPL full history saved as yfinance\\AAPL_full_history.csv\n",
      "📊 Fetching full historical data for MSFT...\n"
     ]
    },
    {
     "name": "stderr",
     "output_type": "stream",
     "text": [
      "[*********************100%***********************]  1 of 1 completed\n",
      "[*********************100%***********************]  1 of 1 completed"
     ]
    },
    {
     "name": "stdout",
     "output_type": "stream",
     "text": [
      "✅ MSFT full history saved as yfinance\\MSFT_full_history.csv\n",
      "📊 Fetching full historical data for NVDA...\n"
     ]
    },
    {
     "name": "stderr",
     "output_type": "stream",
     "text": [
      "\n",
      "[*********************100%***********************]  1 of 1 completed"
     ]
    },
    {
     "name": "stdout",
     "output_type": "stream",
     "text": [
      "✅ NVDA full history saved as yfinance\\NVDA_full_history.csv\n",
      "📊 Fetching full historical data for AMZN...\n"
     ]
    },
    {
     "name": "stderr",
     "output_type": "stream",
     "text": [
      "\n",
      "[*********************100%***********************]  1 of 1 completed"
     ]
    },
    {
     "name": "stdout",
     "output_type": "stream",
     "text": [
      "✅ AMZN full history saved as yfinance\\AMZN_full_history.csv\n",
      "📊 Fetching full historical data for GOOGL...\n",
      "✅ GOOGL full history saved as yfinance\\GOOGL_full_history.csv\n",
      "📊 Fetching full historical data for META...\n"
     ]
    },
    {
     "name": "stderr",
     "output_type": "stream",
     "text": [
      "\n",
      "[*********************100%***********************]  1 of 1 completed\n",
      "[*********************100%***********************]  1 of 1 completed\n"
     ]
    },
    {
     "name": "stdout",
     "output_type": "stream",
     "text": [
      "✅ META full history saved as yfinance\\META_full_history.csv\n",
      "📊 Fetching full historical data for TSLA...\n",
      "✅ TSLA full history saved as yfinance\\TSLA_full_history.csv\n",
      "📊 Fetching full historical data for AMD...\n"
     ]
    },
    {
     "name": "stderr",
     "output_type": "stream",
     "text": [
      "[*********************100%***********************]  1 of 1 completed\n",
      "[*********************100%***********************]  1 of 1 completed"
     ]
    },
    {
     "name": "stdout",
     "output_type": "stream",
     "text": [
      "✅ AMD full history saved as yfinance\\AMD_full_history.csv\n",
      "📊 Fetching full historical data for NFLX...\n",
      "✅ NFLX full history saved as yfinance\\NFLX_full_history.csv\n",
      "📊 Fetching full historical data for AVGO...\n"
     ]
    },
    {
     "name": "stderr",
     "output_type": "stream",
     "text": [
      "\n",
      "[*********************100%***********************]  1 of 1 completed"
     ]
    },
    {
     "name": "stdout",
     "output_type": "stream",
     "text": [
      "✅ AVGO full history saved as yfinance\\AVGO_full_history.csv\n",
      "📊 All stock historical data has been collected and saved in /yfinance/.\n"
     ]
    },
    {
     "name": "stderr",
     "output_type": "stream",
     "text": [
      "\n"
     ]
    }
   ],
   "source": [
    "# Define stock symbols (Choose tech stocks or other relevant ones)\n",
    "stock_symbols = [\"AAPL\", \"MSFT\", \"NVDA\", \"AMZN\", \"GOOGL\", \"META\", \"TSLA\", \"AMD\", \"NFLX\", \"AVGO\"]\n",
    "\n",
    "# Define output directory\n",
    "output_dir = \"yfinance\"\n",
    "os.makedirs(output_dir, exist_ok=True)  # Create directory if it doesn't exist\n",
    "\n",
    "# Function to fetch full historical stock data\n",
    "def fetch_full_stock_data(stock_symbol):\n",
    "    print(f\"📊 Fetching full historical data for {stock_symbol}...\")\n",
    "\n",
    "    df = yf.download(stock_symbol, start=\"1900-01-01\", interval=\"1d\")  # Fetch from the first available date\n",
    "\n",
    "    if df.empty:\n",
    "        print(f\"⚠️ No data found for {stock_symbol}!\")\n",
    "        return\n",
    "\n",
    "    # Save to CSV inside the yfinance directory\n",
    "    file_name = os.path.join(output_dir, f\"{stock_symbol}_full_history.csv\")\n",
    "    df.to_csv(file_name)\n",
    "\n",
    "    print(f\"✅ {stock_symbol} full history saved as {file_name}\")\n",
    "\n",
    "# Fetch data for all selected stocks\n",
    "for stock in stock_symbols:\n",
    "    fetch_full_stock_data(stock)\n",
    "\n",
    "print(\"📊 All stock historical data has been collected and saved in /yfinance/.\")\n"
   ]
  },
  {
   "cell_type": "code",
   "execution_count": 15,
   "id": "07001218-f02a-4e45-a906-527f4a9d74ae",
   "metadata": {
    "scrolled": true
   },
   "outputs": [
    {
     "name": "stdout",
     "output_type": "stream",
     "text": [
      "\n",
      "📊 Checking yfinance\\AAPL_full_history.csv...\n",
      "📅 Date Range: 1980-12-12 00:00:00 to 2025-03-04 00:00:00\n",
      "🔄 Duplicate Dates: 0\n",
      "❗ Missing Values Per Column:\n",
      " Date      0\n",
      "Close     0\n",
      "High      0\n",
      "Low       0\n",
      "Open      0\n",
      "Volume    0\n",
      "dtype: int64\n",
      "✅ Cleaned data saved as: cleaned_data\\AAPL_full_history_cleaned.csv\n",
      "\n",
      "📊 Checking yfinance\\AMD_full_history.csv...\n",
      "📅 Date Range: 1980-03-17 00:00:00 to 2025-03-04 00:00:00\n",
      "🔄 Duplicate Dates: 0\n",
      "❗ Missing Values Per Column:\n",
      " Date      0\n",
      "Close     0\n",
      "High      0\n",
      "Low       0\n",
      "Open      0\n",
      "Volume    0\n",
      "dtype: int64\n",
      "✅ Cleaned data saved as: cleaned_data\\AMD_full_history_cleaned.csv\n",
      "\n",
      "📊 Checking yfinance\\AMZN_full_history.csv...\n",
      "📅 Date Range: 1997-05-15 00:00:00 to 2025-03-04 00:00:00\n",
      "🔄 Duplicate Dates: 0\n",
      "❗ Missing Values Per Column:\n",
      " Date      0\n",
      "Close     0\n",
      "High      0\n",
      "Low       0\n",
      "Open      0\n",
      "Volume    0\n",
      "dtype: int64\n",
      "✅ Cleaned data saved as: cleaned_data\\AMZN_full_history_cleaned.csv\n",
      "\n",
      "📊 Checking yfinance\\AVGO_full_history.csv...\n",
      "📅 Date Range: 2009-08-06 00:00:00 to 2025-03-04 00:00:00\n",
      "🔄 Duplicate Dates: 0\n",
      "❗ Missing Values Per Column:\n",
      " Date      0\n",
      "Close     0\n",
      "High      0\n",
      "Low       0\n",
      "Open      0\n",
      "Volume    0\n",
      "dtype: int64\n",
      "✅ Cleaned data saved as: cleaned_data\\AVGO_full_history_cleaned.csv\n",
      "\n",
      "📊 Checking yfinance\\GOOGL_full_history.csv...\n",
      "📅 Date Range: 2004-08-19 00:00:00 to 2025-03-04 00:00:00\n",
      "🔄 Duplicate Dates: 0\n",
      "❗ Missing Values Per Column:\n",
      " Date      0\n",
      "Close     0\n",
      "High      0\n",
      "Low       0\n",
      "Open      0\n",
      "Volume    0\n",
      "dtype: int64\n",
      "✅ Cleaned data saved as: cleaned_data\\GOOGL_full_history_cleaned.csv\n",
      "\n",
      "📊 Checking yfinance\\META_full_history.csv...\n",
      "📅 Date Range: 2012-05-18 00:00:00 to 2025-03-04 00:00:00\n",
      "🔄 Duplicate Dates: 0\n",
      "❗ Missing Values Per Column:\n",
      " Date      0\n",
      "Close     0\n",
      "High      0\n",
      "Low       0\n",
      "Open      0\n",
      "Volume    0\n",
      "dtype: int64\n",
      "✅ Cleaned data saved as: cleaned_data\\META_full_history_cleaned.csv\n",
      "\n",
      "📊 Checking yfinance\\MSFT_full_history.csv...\n",
      "📅 Date Range: 1986-03-13 00:00:00 to 2025-03-04 00:00:00\n",
      "🔄 Duplicate Dates: 0\n",
      "❗ Missing Values Per Column:\n",
      " Date      0\n",
      "Close     0\n",
      "High      0\n",
      "Low       0\n",
      "Open      0\n",
      "Volume    0\n",
      "dtype: int64\n",
      "✅ Cleaned data saved as: cleaned_data\\MSFT_full_history_cleaned.csv\n",
      "\n",
      "📊 Checking yfinance\\NFLX_full_history.csv...\n",
      "📅 Date Range: 2002-05-23 00:00:00 to 2025-03-04 00:00:00\n",
      "🔄 Duplicate Dates: 0\n",
      "❗ Missing Values Per Column:\n",
      " Date      0\n",
      "Close     0\n",
      "High      0\n",
      "Low       0\n",
      "Open      0\n",
      "Volume    0\n",
      "dtype: int64\n",
      "✅ Cleaned data saved as: cleaned_data\\NFLX_full_history_cleaned.csv\n",
      "\n",
      "📊 Checking yfinance\\NVDA_full_history.csv...\n",
      "📅 Date Range: 1999-01-22 00:00:00 to 2025-03-04 00:00:00\n",
      "🔄 Duplicate Dates: 0\n",
      "❗ Missing Values Per Column:\n",
      " Date      0\n",
      "Close     0\n",
      "High      0\n",
      "Low       0\n",
      "Open      0\n",
      "Volume    0\n",
      "dtype: int64\n",
      "✅ Cleaned data saved as: cleaned_data\\NVDA_full_history_cleaned.csv\n",
      "\n",
      "📊 Checking yfinance\\TSLA_full_history.csv...\n",
      "📅 Date Range: 2010-06-29 00:00:00 to 2025-03-04 00:00:00\n",
      "🔄 Duplicate Dates: 0\n",
      "❗ Missing Values Per Column:\n",
      " Date      0\n",
      "Close     0\n",
      "High      0\n",
      "Low       0\n",
      "Open      0\n",
      "Volume    0\n",
      "dtype: int64\n",
      "✅ Cleaned data saved as: cleaned_data\\TSLA_full_history_cleaned.csv\n",
      "\n",
      "✅ All stock data has been checked and saved in the 'cleaned_data/' folder.\n"
     ]
    }
   ],
   "source": [
    "# Define input and output directories\n",
    "input_dir = \"yfinance\"\n",
    "output_dir = \"cleaned_data\"\n",
    "os.makedirs(output_dir, exist_ok=True)  # Create output directory if it doesn't exist\n",
    "\n",
    "# List all CSV files in the yfinance folder\n",
    "csv_files = [f for f in os.listdir(input_dir) if f.endswith(\".csv\")]\n",
    "\n",
    "# Function to check stock data for issues\n",
    "def check_stock_data(file_path):\n",
    "    df = pd.read_csv(file_path, skiprows=2)  # Skip first two header rows\n",
    "\n",
    "    # Rename columns properly\n",
    "    df.columns = [\"Date\", \"Close\", \"High\", \"Low\", \"Open\", \"Volume\"]\n",
    "\n",
    "    # Convert Date column to datetime format\n",
    "    df[\"Date\"] = pd.to_datetime(df[\"Date\"], errors='coerce')\n",
    "\n",
    "    # Convert numeric columns to float\n",
    "    numeric_cols = [\"Close\", \"High\", \"Low\", \"Open\", \"Volume\"]\n",
    "    df[numeric_cols] = df[numeric_cols].apply(pd.to_numeric, errors='coerce')\n",
    "\n",
    "    # Check for duplicates\n",
    "    duplicate_count = df.duplicated(subset=[\"Date\"]).sum()\n",
    "\n",
    "    # Check for missing values\n",
    "    missing_values = df.isnull().sum()\n",
    "\n",
    "    print(f\"\\n📊 Checking {file_path}...\")\n",
    "    print(f\"📅 Date Range: {df['Date'].min()} to {df['Date'].max()}\")\n",
    "    print(f\"🔄 Duplicate Dates: {duplicate_count}\")\n",
    "    print(\"❗ Missing Values Per Column:\\n\", missing_values)\n",
    "\n",
    "    return df, duplicate_count, missing_values\n",
    "\n",
    "# Function to clean and save stock data\n",
    "def clean_stock_data(df, output_path):\n",
    "    # Sort by date\n",
    "    df.sort_values(by=\"Date\", ascending=True, inplace=True)\n",
    "\n",
    "    # Save the cleaned file without dropping duplicates/missing values\n",
    "    df.to_csv(output_path, index=False)\n",
    "    print(f\"✅ Cleaned data saved as: {output_path}\")\n",
    "\n",
    "# Process all CSV files in yfinance directory\n",
    "for file in csv_files:\n",
    "    input_file_path = os.path.join(input_dir, file)\n",
    "    output_file_path = os.path.join(output_dir, file.replace(\".csv\", \"_cleaned.csv\"))\n",
    "    \n",
    "    df, duplicate_count, missing_values = check_stock_data(input_file_path)\n",
    "    \n",
    "    # Only save the cleaned file (without dropping data)\n",
    "    clean_stock_data(df, output_file_path)\n",
    "\n",
    "print(\"\\n✅ All stock data has been checked and saved in the 'cleaned_data/' folder.\")\n"
   ]
  },
  {
   "cell_type": "code",
   "execution_count": null,
   "id": "53d6d1ac-c3bf-4364-b169-d73d331b4822",
   "metadata": {},
   "outputs": [],
   "source": []
  },
  {
   "cell_type": "code",
   "execution_count": null,
   "id": "2b26d9ac-8039-4532-8898-32cd4968a16b",
   "metadata": {},
   "outputs": [],
   "source": []
  },
  {
   "cell_type": "code",
   "execution_count": null,
   "id": "d001b954-7f6b-449f-b1cc-2e4ada7b9071",
   "metadata": {},
   "outputs": [],
   "source": []
  },
  {
   "cell_type": "markdown",
   "id": "124c7652-3b4c-417e-9557-63db46968e11",
   "metadata": {},
   "source": [
    "#### Avoid this first Check Missing Value"
   ]
  },
  {
   "cell_type": "code",
   "execution_count": 3,
   "id": "d92dab2d-d813-48f1-a2e9-8dfdc0d21a7b",
   "metadata": {},
   "outputs": [
    {
     "name": "stdout",
     "output_type": "stream",
     "text": [
      "<class 'pandas.core.frame.DataFrame'>\n",
      "RangeIndex: 252 entries, 0 to 251\n",
      "Data columns (total 6 columns):\n",
      " #   Column  Non-Null Count  Dtype \n",
      "---  ------  --------------  ----- \n",
      " 0   Price   252 non-null    object\n",
      " 1   Close   251 non-null    object\n",
      " 2   High    251 non-null    object\n",
      " 3   Low     251 non-null    object\n",
      " 4   Open    251 non-null    object\n",
      " 5   Volume  251 non-null    object\n",
      "dtypes: object(6)\n",
      "memory usage: 11.9+ KB\n",
      "None\n",
      "        Price               Close                High                 Low  \\\n",
      "0      Ticker                AAPL                AAPL                AAPL   \n",
      "1        Date                 NaN                 NaN                 NaN   \n",
      "2  2024-02-20   180.7067108154297  181.57261717237213   179.1540448566047   \n",
      "3  2024-02-21   181.4631805419922  182.03049388623003  179.81097819372195   \n",
      "4  2024-02-22  183.50350952148438  184.09074823448796  181.60249751065342   \n",
      "\n",
      "                 Open    Volume  \n",
      "0                AAPL      AAPL  \n",
      "1                 NaN       NaN  \n",
      "2  180.93562562036504  53665600  \n",
      "3  181.08496152111414  41529700  \n",
      "4  182.61769287128237  52292200  \n"
     ]
    }
   ],
   "source": [
    "df = pd.read_csv(\"AAPL_historical_data.csv\")  # Replace with any stock CSV file\n",
    "print(df.info())  # Check data types and missing values\n",
    "print(df.head())  # Preview first few rows\n"
   ]
  },
  {
   "cell_type": "markdown",
   "id": "330a2118-505f-4d74-98ca-74a61ab73595",
   "metadata": {},
   "source": [
    "## News Data"
   ]
  },
  {
   "cell_type": "code",
   "execution_count": 5,
   "id": "86c110e9-5b50-41ad-858d-66a9290ab827",
   "metadata": {},
   "outputs": [
    {
     "name": "stdout",
     "output_type": "stream",
     "text": [
      "News data collected and saved to 'tech_stock_news.csv'.\n"
     ]
    }
   ],
   "source": [
    "# Your NewsAPI Key\n",
    "api_key = \"31dbe344e851496e950dc899ab1d0e93\"\n",
    "\n",
    "# List of tech stocks to search for\n",
    "tech_stocks = [\"Apple\", \"Microsoft\", \"Nvidia\", \"Amazon\", \"Google\", \"Meta\", \"Tesla\", \"AMD\", \"Netflix\", \"Broadcom\"]\n",
    "\n",
    "# Date range for news (last 7 days)\n",
    "end_date = datetime.today().strftime('%Y-%m-%d')\n",
    "start_date = (datetime.today() - timedelta(days=7)).strftime('%Y-%m-%d')\n",
    "\n",
    "# Function to fetch news for each stock\n",
    "def fetch_news(stock):\n",
    "    url = f\"https://newsapi.org/v2/everything?q={stock}&language=en&from={start_date}&to={end_date}&sortBy=publishedAt&apiKey={api_key}\"\n",
    "    response = requests.get(url)\n",
    "    return response.json()\n",
    "\n",
    "# Collect news for all stocks\n",
    "news_data = []\n",
    "for stock in tech_stocks:\n",
    "    data = fetch_news(stock)\n",
    "    if \"articles\" in data:\n",
    "        for article in data[\"articles\"]:\n",
    "            news_data.append({\n",
    "                \"Stock\": stock,\n",
    "                \"Title\": article[\"title\"],\n",
    "                \"Source\": article[\"source\"][\"name\"],\n",
    "                \"Published At\": article[\"publishedAt\"],\n",
    "                \"URL\": article[\"url\"]\n",
    "            })\n",
    "\n",
    "# Convert to DataFrame\n",
    "df_news = pd.DataFrame(news_data)\n",
    "\n",
    "# Save to CSV\n",
    "df_news.to_csv(\"tech_stock_news.csv\", index=False)\n",
    "\n",
    "print(\"News data collected and saved to 'tech_stock_news.csv'.\")\n"
   ]
  },
  {
   "cell_type": "code",
   "execution_count": 6,
   "id": "9691011a-fe2f-4147-b2ff-b971f9bd5c2b",
   "metadata": {},
   "outputs": [
    {
     "name": "stdout",
     "output_type": "stream",
     "text": [
      "   Stock                                              Title          Source  \\\n",
      "0  Apple  Tudor Financial Inc. Grows Stock Holdings in A...  ETF Daily News   \n",
      "1  Apple  iPhone SE 4 live: latest news and rumors ahead...    Slashdot.org   \n",
      "2  Apple  Apple’s February 2025 Event. 6 Biggest Predict...   Geeky Gadgets   \n",
      "3  Apple             How Eric Adams Got His Charges Dropped  Slate Magazine   \n",
      "4  Apple  Apple’s political turn is leading it down a sk...        Macworld   \n",
      "\n",
      "           Published At                                                URL  \n",
      "0  2025-02-18T10:32:53Z  https://www.etfdailynews.com/2025/02/18/tudor-...  \n",
      "1  2025-02-18T10:32:40Z  https://slashdot.org/firehose.pl?op=view&amp;i...  \n",
      "2  2025-02-18T10:30:56Z  https://www.geeky-gadgets.com/apples-february-...  \n",
      "3  2025-02-18T10:30:00Z  https://slate.com/podcasts/what-next/2025/02/w...  \n",
      "4  2025-02-18T10:30:00Z  https://www.macworld.com/article/2611168/apple...  \n"
     ]
    }
   ],
   "source": [
    "# Load the collected news data\n",
    "df_news = pd.read_csv(\"tech_stock_news.csv\")\n",
    "\n",
    "# Display first few rows\n",
    "print(df_news.head())\n"
   ]
  },
  {
   "cell_type": "code",
   "execution_count": 7,
   "id": "34f9bbc3-2532-4dc1-93b5-f2148c1a4bb3",
   "metadata": {},
   "outputs": [
    {
     "name": "stdout",
     "output_type": "stream",
     "text": [
      "Data cleaned and saved.\n"
     ]
    }
   ],
   "source": [
    "def clean_text(text):\n",
    "    text = text.lower()  # Convert to lowercase\n",
    "    text = re.sub(r'\\s+', ' ', text)  # Remove extra spaces\n",
    "    text = re.sub(r'[^\\w\\s]', '', text)  # Remove punctuation\n",
    "    text = text.strip()  # Remove leading/trailing spaces\n",
    "    return text\n",
    "\n",
    "# Apply cleaning\n",
    "df_news[\"Cleaned_Title\"] = df_news[\"Title\"].apply(clean_text)\n",
    "\n",
    "# Save cleaned data\n",
    "df_news.to_csv(\"cleaned_tech_stock_news.csv\", index=False)\n",
    "\n",
    "print(\"Data cleaned and saved.\")\n"
   ]
  },
  {
   "cell_type": "markdown",
   "id": "ca1e3900-361b-408d-b701-123485429416",
   "metadata": {},
   "source": [
    "# Sentiment Analysis"
   ]
  },
  {
   "cell_type": "markdown",
   "id": "a3ef9982-21a0-4f33-be86-0fb25f5067cf",
   "metadata": {},
   "source": [
    "## FinBERT model"
   ]
  },
  {
   "cell_type": "code",
   "execution_count": 1,
   "id": "0f1c7325-9cd2-42aa-9dc9-cd634997ee4c",
   "metadata": {},
   "outputs": [],
   "source": [
    "# Load FinBERT tokenizer & model\n",
    "tokenizer = BertTokenizer.from_pretrained(\"yiyanghkust/finbert-tone\")\n",
    "model = BertForSequenceClassification.from_pretrained(\"yiyanghkust/finbert-tone\")\n"
   ]
  },
  {
   "cell_type": "code",
   "execution_count": 2,
   "id": "0105c8e7-83e2-4c46-b1d9-2430b70ae25d",
   "metadata": {},
   "outputs": [
    {
     "name": "stdout",
     "output_type": "stream",
     "text": [
      "Sentiment: Neutral\n"
     ]
    }
   ],
   "source": [
    "import torch.nn.functional as F\n",
    "\n",
    "def predict_sentiment(text):\n",
    "    inputs = tokenizer(text, return_tensors=\"pt\", truncation=True, padding=True, max_length=512)\n",
    "    outputs = model(**inputs)\n",
    "    probs = F.softmax(outputs.logits, dim=-1)\n",
    "\n",
    "    # Labels: 0 = Negative, 1 = Neutral, 2 = Positive\n",
    "    labels = [\"Negative\", \"Neutral\", \"Positive\"]\n",
    "    sentiment = labels[torch.argmax(probs).item()]\n",
    "    \n",
    "    return sentiment\n",
    "\n",
    "# Test on an example headline\n",
    "example_headline = \"Apple stock soars as earnings beat expectations\"\n",
    "print(f\"Sentiment: {predict_sentiment(example_headline)}\")\n"
   ]
  },
  {
   "cell_type": "code",
   "execution_count": 5,
   "id": "cb9455d7-6c7f-49a6-a38b-8110bca72520",
   "metadata": {},
   "outputs": [
    {
     "name": "stdout",
     "output_type": "stream",
     "text": [
      "Sentiment analysis complete. Results saved.\n"
     ]
    }
   ],
   "source": [
    "df_news = pd.read_csv(\"cleaned_tech_stock_news.csv\")\n",
    "\n",
    "# Apply sentiment analysis to each headline\n",
    "df_news[\"Sentiment\"] = df_news[\"Cleaned_Title\"].apply(predict_sentiment)\n",
    "\n",
    "# Save results\n",
    "df_news.to_csv(\"news_sentiment_analysis.csv\", index=False)\n",
    "\n",
    "print(\"Sentiment analysis complete. Results saved.\")\n"
   ]
  },
  {
   "cell_type": "code",
   "execution_count": 6,
   "id": "4b666c7b-d058-4274-b5b9-43620e3a0cc8",
   "metadata": {},
   "outputs": [
    {
     "name": "stdout",
     "output_type": "stream",
     "text": [
      "Sentiment\n",
      "Negative    773\n",
      "Positive    105\n",
      "Neutral      91\n",
      "Name: count, dtype: int64\n"
     ]
    }
   ],
   "source": [
    "# Load the dataset with sentiment analysis results\n",
    "df_news = pd.read_csv(\"news_sentiment_analysis.csv\")\n",
    "\n",
    "# Count the occurrences of each sentiment category\n",
    "sentiment_counts = df_news[\"Sentiment\"].value_counts()\n",
    "\n",
    "# Display results\n",
    "print(sentiment_counts)\n"
   ]
  },
  {
   "cell_type": "markdown",
   "id": "7f54411f-100c-4b2b-9633-7cd5bf7eb9b9",
   "metadata": {},
   "source": [
    "# Chart Analysis"
   ]
  },
  {
   "cell_type": "code",
   "execution_count": 4,
   "id": "0ce870af-fdc3-4db8-8314-7bef5fc84835",
   "metadata": {},
   "outputs": [
    {
     "ename": "KeyError",
     "evalue": "'Value based partial slicing on non-monotonic DatetimeIndexes with non-existing keys is not allowed.'",
     "output_type": "error",
     "traceback": [
      "\u001b[1;31m---------------------------------------------------------------------------\u001b[0m",
      "\u001b[1;31mKeyError\u001b[0m                                  Traceback (most recent call last)",
      "Cell \u001b[1;32mIn[4], line 5\u001b[0m\n\u001b[0;32m      2\u001b[0m df \u001b[38;5;241m=\u001b[39m pd\u001b[38;5;241m.\u001b[39mread_csv(\u001b[38;5;124m\"\u001b[39m\u001b[38;5;124mAAPL_30min_data_test/AAPL_30min_2024-01.csv\u001b[39m\u001b[38;5;124m\"\u001b[39m, parse_dates\u001b[38;5;241m=\u001b[39m[\u001b[38;5;124m\"\u001b[39m\u001b[38;5;124mdate\u001b[39m\u001b[38;5;124m\"\u001b[39m], index_col\u001b[38;5;241m=\u001b[39m\u001b[38;5;124m\"\u001b[39m\u001b[38;5;124mdate\u001b[39m\u001b[38;5;124m\"\u001b[39m)\n\u001b[0;32m      4\u001b[0m \u001b[38;5;66;03m# Select a specific period to visualize (e.g., 1 week in 2024)\u001b[39;00m\n\u001b[1;32m----> 5\u001b[0m df_sample \u001b[38;5;241m=\u001b[39m df\u001b[38;5;241m.\u001b[39mloc[\u001b[38;5;124m\"\u001b[39m\u001b[38;5;124m2024-01-02\u001b[39m\u001b[38;5;124m\"\u001b[39m:\u001b[38;5;124m\"\u001b[39m\u001b[38;5;124m2024-01-10\u001b[39m\u001b[38;5;124m\"\u001b[39m]  \u001b[38;5;66;03m# Change dates as needed\u001b[39;00m\n\u001b[0;32m      7\u001b[0m \u001b[38;5;66;03m# Ensure the DataFrame has the correct columns\u001b[39;00m\n\u001b[0;32m      8\u001b[0m df_sample \u001b[38;5;241m=\u001b[39m df_sample[[\u001b[38;5;124m\"\u001b[39m\u001b[38;5;124mOpen\u001b[39m\u001b[38;5;124m\"\u001b[39m, \u001b[38;5;124m\"\u001b[39m\u001b[38;5;124mHigh\u001b[39m\u001b[38;5;124m\"\u001b[39m, \u001b[38;5;124m\"\u001b[39m\u001b[38;5;124mLow\u001b[39m\u001b[38;5;124m\"\u001b[39m, \u001b[38;5;124m\"\u001b[39m\u001b[38;5;124mClose\u001b[39m\u001b[38;5;124m\"\u001b[39m, \u001b[38;5;124m\"\u001b[39m\u001b[38;5;124mVolume\u001b[39m\u001b[38;5;124m\"\u001b[39m]]\n",
      "File \u001b[1;32mC:\\anaconda\\envs\\FYP\\Lib\\site-packages\\pandas\\core\\indexing.py:1191\u001b[0m, in \u001b[0;36m_LocationIndexer.__getitem__\u001b[1;34m(self, key)\u001b[0m\n\u001b[0;32m   1189\u001b[0m maybe_callable \u001b[38;5;241m=\u001b[39m com\u001b[38;5;241m.\u001b[39mapply_if_callable(key, \u001b[38;5;28mself\u001b[39m\u001b[38;5;241m.\u001b[39mobj)\n\u001b[0;32m   1190\u001b[0m maybe_callable \u001b[38;5;241m=\u001b[39m \u001b[38;5;28mself\u001b[39m\u001b[38;5;241m.\u001b[39m_check_deprecated_callable_usage(key, maybe_callable)\n\u001b[1;32m-> 1191\u001b[0m \u001b[38;5;28;01mreturn\u001b[39;00m \u001b[38;5;28mself\u001b[39m\u001b[38;5;241m.\u001b[39m_getitem_axis(maybe_callable, axis\u001b[38;5;241m=\u001b[39maxis)\n",
      "File \u001b[1;32mC:\\anaconda\\envs\\FYP\\Lib\\site-packages\\pandas\\core\\indexing.py:1411\u001b[0m, in \u001b[0;36m_LocIndexer._getitem_axis\u001b[1;34m(self, key, axis)\u001b[0m\n\u001b[0;32m   1409\u001b[0m \u001b[38;5;28;01mif\u001b[39;00m \u001b[38;5;28misinstance\u001b[39m(key, \u001b[38;5;28mslice\u001b[39m):\n\u001b[0;32m   1410\u001b[0m     \u001b[38;5;28mself\u001b[39m\u001b[38;5;241m.\u001b[39m_validate_key(key, axis)\n\u001b[1;32m-> 1411\u001b[0m     \u001b[38;5;28;01mreturn\u001b[39;00m \u001b[38;5;28mself\u001b[39m\u001b[38;5;241m.\u001b[39m_get_slice_axis(key, axis\u001b[38;5;241m=\u001b[39maxis)\n\u001b[0;32m   1412\u001b[0m \u001b[38;5;28;01melif\u001b[39;00m com\u001b[38;5;241m.\u001b[39mis_bool_indexer(key):\n\u001b[0;32m   1413\u001b[0m     \u001b[38;5;28;01mreturn\u001b[39;00m \u001b[38;5;28mself\u001b[39m\u001b[38;5;241m.\u001b[39m_getbool_axis(key, axis\u001b[38;5;241m=\u001b[39maxis)\n",
      "File \u001b[1;32mC:\\anaconda\\envs\\FYP\\Lib\\site-packages\\pandas\\core\\indexing.py:1443\u001b[0m, in \u001b[0;36m_LocIndexer._get_slice_axis\u001b[1;34m(self, slice_obj, axis)\u001b[0m\n\u001b[0;32m   1440\u001b[0m     \u001b[38;5;28;01mreturn\u001b[39;00m obj\u001b[38;5;241m.\u001b[39mcopy(deep\u001b[38;5;241m=\u001b[39m\u001b[38;5;28;01mFalse\u001b[39;00m)\n\u001b[0;32m   1442\u001b[0m labels \u001b[38;5;241m=\u001b[39m obj\u001b[38;5;241m.\u001b[39m_get_axis(axis)\n\u001b[1;32m-> 1443\u001b[0m indexer \u001b[38;5;241m=\u001b[39m labels\u001b[38;5;241m.\u001b[39mslice_indexer(slice_obj\u001b[38;5;241m.\u001b[39mstart, slice_obj\u001b[38;5;241m.\u001b[39mstop, slice_obj\u001b[38;5;241m.\u001b[39mstep)\n\u001b[0;32m   1445\u001b[0m \u001b[38;5;28;01mif\u001b[39;00m \u001b[38;5;28misinstance\u001b[39m(indexer, \u001b[38;5;28mslice\u001b[39m):\n\u001b[0;32m   1446\u001b[0m     \u001b[38;5;28;01mreturn\u001b[39;00m \u001b[38;5;28mself\u001b[39m\u001b[38;5;241m.\u001b[39mobj\u001b[38;5;241m.\u001b[39m_slice(indexer, axis\u001b[38;5;241m=\u001b[39maxis)\n",
      "File \u001b[1;32mC:\\anaconda\\envs\\FYP\\Lib\\site-packages\\pandas\\core\\indexes\\datetimes.py:697\u001b[0m, in \u001b[0;36mDatetimeIndex.slice_indexer\u001b[1;34m(self, start, end, step)\u001b[0m\n\u001b[0;32m    694\u001b[0m     in_index \u001b[38;5;241m&\u001b[39m\u001b[38;5;241m=\u001b[39m (end_casted \u001b[38;5;241m==\u001b[39m \u001b[38;5;28mself\u001b[39m)\u001b[38;5;241m.\u001b[39many()\n\u001b[0;32m    696\u001b[0m \u001b[38;5;28;01mif\u001b[39;00m \u001b[38;5;129;01mnot\u001b[39;00m in_index:\n\u001b[1;32m--> 697\u001b[0m     \u001b[38;5;28;01mraise\u001b[39;00m \u001b[38;5;167;01mKeyError\u001b[39;00m(\n\u001b[0;32m    698\u001b[0m         \u001b[38;5;124m\"\u001b[39m\u001b[38;5;124mValue based partial slicing on non-monotonic DatetimeIndexes \u001b[39m\u001b[38;5;124m\"\u001b[39m\n\u001b[0;32m    699\u001b[0m         \u001b[38;5;124m\"\u001b[39m\u001b[38;5;124mwith non-existing keys is not allowed.\u001b[39m\u001b[38;5;124m\"\u001b[39m,\n\u001b[0;32m    700\u001b[0m     )\n\u001b[0;32m    701\u001b[0m indexer \u001b[38;5;241m=\u001b[39m mask\u001b[38;5;241m.\u001b[39mnonzero()[\u001b[38;5;241m0\u001b[39m][::step]\n\u001b[0;32m    702\u001b[0m \u001b[38;5;28;01mif\u001b[39;00m \u001b[38;5;28mlen\u001b[39m(indexer) \u001b[38;5;241m==\u001b[39m \u001b[38;5;28mlen\u001b[39m(\u001b[38;5;28mself\u001b[39m):\n",
      "\u001b[1;31mKeyError\u001b[0m: 'Value based partial slicing on non-monotonic DatetimeIndexes with non-existing keys is not allowed.'"
     ]
    }
   ],
   "source": [
    "# Load collected AAPL data\n",
    "df = pd.read_csv(\"AAPL_30min_data_test/AAPL_30min_2024-01.csv\", parse_dates=[\"date\"], index_col=\"date\")\n",
    "\n",
    "# Select a specific period to visualize (e.g., 1 week in 2024)\n",
    "df_sample = df.loc[\"2024-01-02\":\"2024-01-10\"]  # Change dates as needed\n",
    "\n",
    "# Ensure the DataFrame has the correct columns\n",
    "df_sample = df_sample[[\"Open\", \"High\", \"Low\", \"Close\", \"Volume\"]]\n",
    "\n",
    "# Plot candlestick chart\n",
    "mpf.plot(\n",
    "    df_sample,\n",
    "    type=\"candle\",\n",
    "    style=\"yahoo\",\n",
    "    title=\"AAPL Candlestick Chart (1 Week)\",\n",
    "    ylabel=\"Price (USD)\",\n",
    "    volume=True,\n",
    "    figratio=(12,6),  # Adjust figure size\n",
    "    #mav=(5, 10),  # Add moving averages (5-day & 10-day)\n",
    "    tight_layout=True\n",
    ")\n"
   ]
  },
  {
   "cell_type": "code",
   "execution_count": null,
   "id": "b58a8d5b-50e6-4988-89a3-bda7b1983f8d",
   "metadata": {},
   "outputs": [],
   "source": []
  }
 ],
 "metadata": {
  "kernelspec": {
   "display_name": "Python 3 (ipykernel)",
   "language": "python",
   "name": "python3"
  },
  "language_info": {
   "codemirror_mode": {
    "name": "ipython",
    "version": 3
   },
   "file_extension": ".py",
   "mimetype": "text/x-python",
   "name": "python",
   "nbconvert_exporter": "python",
   "pygments_lexer": "ipython3",
   "version": "3.12.9"
  }
 },
 "nbformat": 4,
 "nbformat_minor": 5
}
